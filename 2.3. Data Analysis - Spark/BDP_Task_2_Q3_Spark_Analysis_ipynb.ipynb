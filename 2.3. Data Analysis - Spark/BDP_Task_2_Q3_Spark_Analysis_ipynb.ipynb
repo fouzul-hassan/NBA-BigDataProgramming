{
  "nbformat": 4,
  "nbformat_minor": 0,
  "metadata": {
    "colab": {
      "provenance": []
    },
    "kernelspec": {
      "name": "python3",
      "display_name": "Python 3"
    },
    "language_info": {
      "name": "python"
    }
  },
  "cells": [
    {
      "cell_type": "code",
      "execution_count": null,
      "metadata": {
        "id": "gvPgeXx7AuEW"
      },
      "outputs": [],
      "source": [
        "# !wget https://archive.apache.org/dist/spark/spark-3.4.1/spark-3.4.1-bin-hadoop3.tgz\n",
        "# !tar -xvf spark-3.4.1-bin-hadoop3.tgz\n",
        "!apt-get install openjdk-8-jdk-headless -qq > /dev/null\n",
        "!wget -q https://archive.apache.org/dist/spark/spark-3.4.1/spark-3.4.1-bin-hadoop3.tgz\n",
        "!tar xf spark-3.4.1-bin-hadoop3.tgz\n",
        "!pip install -q findspark\n"
      ]
    },
    {
      "cell_type": "code",
      "source": [
        "# import os\n",
        "\n",
        "# os.environ[\"JAVA_HOME\"] = \"/usr/lib/jvm/java-8-openjdk-amd64\"\n",
        "# os.environ[\"SPARK_HOME\"] = \"/content/spark-3.4.1-bin-hadoop3\"\n",
        "# os.environ[\"PATH\"] += os.pathsep + os.environ[\"SPARK_HOME\"] + \"/bin\"\n",
        "# Set environment variables\n",
        "import os\n",
        "os.environ[\"JAVA_HOME\"] = \"/usr/lib/jvm/java-8-openjdk-amd64\"\n",
        "os.environ[\"SPARK_HOME\"] = \"/content/spark-3.4.1-bin-hadoop3\"\n",
        "os.environ[\"HADOOP_HOME\"] = \"/content/spark-3.4.1-bin-hadoop3\"\n",
        "os.environ[\"PATH\"] += os.pathsep + os.environ[\"SPARK_HOME\"] + \"/bin\"\n",
        "os.environ[\"PATH\"] += os.pathsep + os.environ[\"HADOOP_HOME\"] + \"/bin\"\n",
        "os.environ[\"PYSPARK_PYTHON\"] = \"/usr/bin/python3\"\n"
      ],
      "metadata": {
        "id": "1LsUXDqyDWH3"
      },
      "execution_count": null,
      "outputs": []
    },
    {
      "cell_type": "code",
      "source": [
        "# Install PySpark\n",
        "!pip install -q findspark"
      ],
      "metadata": {
        "id": "o-3Y3NiQBeAw"
      },
      "execution_count": null,
      "outputs": []
    },
    {
      "cell_type": "code",
      "source": [
        "# Initialize Spark\n",
        "import findspark\n",
        "findspark.init()\n",
        "from pyspark.sql import SparkSession\n",
        "\n",
        "spark = SparkSession.builder \\\n",
        "    .appName(\"NBA-Analysis2\") \\\n",
        "    .master(\"local[*]\") \\\n",
        "    .config(\"spark.driver.extraClassPath\", os.environ[\"HADOOP_HOME\"] + \"/etc/hadoop/*\") \\\n",
        "    .getOrCreate()\n",
        "\n",
        "spark"
      ],
      "metadata": {
        "colab": {
          "base_uri": "https://localhost:8080/",
          "height": 219
        },
        "id": "kNJYVxHPqfh2",
        "outputId": "aca9da9c-6d7a-4634-f701-6938abd61554"
      },
      "execution_count": null,
      "outputs": [
        {
          "output_type": "execute_result",
          "data": {
            "text/plain": [
              "<pyspark.sql.session.SparkSession at 0x7837710db210>"
            ],
            "text/html": [
              "\n",
              "            <div>\n",
              "                <p><b>SparkSession - in-memory</b></p>\n",
              "                \n",
              "        <div>\n",
              "            <p><b>SparkContext</b></p>\n",
              "\n",
              "            <p><a href=\"http://40de377c2cc5:4040\">Spark UI</a></p>\n",
              "\n",
              "            <dl>\n",
              "              <dt>Version</dt>\n",
              "                <dd><code>v3.4.1</code></dd>\n",
              "              <dt>Master</dt>\n",
              "                <dd><code>local[*]</code></dd>\n",
              "              <dt>AppName</dt>\n",
              "                <dd><code>NBA-Analysis2</code></dd>\n",
              "            </dl>\n",
              "        </div>\n",
              "        \n",
              "            </div>\n",
              "        "
            ]
          },
          "metadata": {},
          "execution_count": 11
        }
      ]
    },
    {
      "cell_type": "code",
      "source": [
        "# # Initialize Spark\n",
        "# import findspark\n",
        "# findspark.init()\n",
        "\n",
        "# from pyspark.sql import SparkSession\n",
        "\n",
        "# spark = SparkSession.builder \\\n",
        "#     .appName(\"NBA-Analysis2\") \\\n",
        "#     .getOrCreate()\n",
        "\n",
        "# spark"
      ],
      "metadata": {
        "id": "asjLOr2HBhbt"
      },
      "execution_count": null,
      "outputs": []
    },
    {
      "cell_type": "code",
      "source": [
        "df = spark.read.csv(\"dataset2.csv\", header=True, inferSchema=True)\n",
        "print(df)"
      ],
      "metadata": {
        "colab": {
          "base_uri": "https://localhost:8080/"
        },
        "id": "NjPFk_7PCBhQ",
        "outputId": "eaaa1f53-9b6a-4dd0-c5d9-443591e4dafa"
      },
      "execution_count": null,
      "outputs": [
        {
          "output_type": "stream",
          "name": "stdout",
          "text": [
            "DataFrame[EVENTID: int, EVENTNUM: int, GAME_ID: int, HOMEDESCRIPTION: string, PCTIMESTRING: timestamp, PERIOD: int, PLAYER1_ID: int, PLAYER1_NAME: string, PLAYER1_TEAM_ABBREVIATION: string, PLAYER1_TEAM_CITY: string, PLAYER1_TEAM_ID: int, PLAYER1_TEAM_NICKNAME: string, PLAYER2_ID: int, PLAYER2_NAME: string, PLAYER2_TEAM_ABBREVIATION: string, PLAYER2_TEAM_CITY: string, PLAYER2_TEAM_ID: int, PLAYER2_TEAM_NICKNAME: string, PLAYER3_ID: int, PLAYER3_NAME: string, PLAYER3_TEAM_ABBREVIATION: string, PLAYER3_TEAM_CITY: string, PLAYER3_TEAM_ID: int, PLAYER3_TEAM_NICKNAME: string, SCORE: string, SCOREMARGIN: string, VISITORDESCRIPTION: string]\n"
          ]
        }
      ]
    },
    {
      "cell_type": "code",
      "source": [
        "df"
      ],
      "metadata": {
        "colab": {
          "base_uri": "https://localhost:8080/"
        },
        "id": "owPWCZ4tExtt",
        "outputId": "e58064ff-882f-43db-f8b4-0314658fb89d"
      },
      "execution_count": null,
      "outputs": [
        {
          "output_type": "execute_result",
          "data": {
            "text/plain": [
              "DataFrame[EVENTID: int, EVENTNUM: int, GAME_ID: int, HOMEDESCRIPTION: string, PCTIMESTRING: timestamp, PERIOD: int, PLAYER1_ID: int, PLAYER1_NAME: string, PLAYER1_TEAM_ABBREVIATION: string, PLAYER1_TEAM_CITY: string, PLAYER1_TEAM_ID: int, PLAYER1_TEAM_NICKNAME: string, PLAYER2_ID: int, PLAYER2_NAME: string, PLAYER2_TEAM_ABBREVIATION: string, PLAYER2_TEAM_CITY: string, PLAYER2_TEAM_ID: int, PLAYER2_TEAM_NICKNAME: string, PLAYER3_ID: int, PLAYER3_NAME: string, PLAYER3_TEAM_ABBREVIATION: string, PLAYER3_TEAM_CITY: string, PLAYER3_TEAM_ID: int, PLAYER3_TEAM_NICKNAME: string, SCORE: string, SCOREMARGIN: string, VISITORDESCRIPTION: string]"
            ]
          },
          "metadata": {},
          "execution_count": 14
        }
      ]
    },
    {
      "cell_type": "code",
      "source": [
        "df.printSchema()\n",
        "df.columns"
      ],
      "metadata": {
        "colab": {
          "base_uri": "https://localhost:8080/"
        },
        "id": "CU0sNYhoBh9h",
        "outputId": "7079f064-bcd4-4ea6-915b-70cb42a9ff4f"
      },
      "execution_count": null,
      "outputs": [
        {
          "output_type": "stream",
          "name": "stdout",
          "text": [
            "root\n",
            " |-- EVENTID: integer (nullable = true)\n",
            " |-- EVENTNUM: integer (nullable = true)\n",
            " |-- GAME_ID: integer (nullable = true)\n",
            " |-- HOMEDESCRIPTION: string (nullable = true)\n",
            " |-- PCTIMESTRING: timestamp (nullable = true)\n",
            " |-- PERIOD: integer (nullable = true)\n",
            " |-- PLAYER1_ID: integer (nullable = true)\n",
            " |-- PLAYER1_NAME: string (nullable = true)\n",
            " |-- PLAYER1_TEAM_ABBREVIATION: string (nullable = true)\n",
            " |-- PLAYER1_TEAM_CITY: string (nullable = true)\n",
            " |-- PLAYER1_TEAM_ID: integer (nullable = true)\n",
            " |-- PLAYER1_TEAM_NICKNAME: string (nullable = true)\n",
            " |-- PLAYER2_ID: integer (nullable = true)\n",
            " |-- PLAYER2_NAME: string (nullable = true)\n",
            " |-- PLAYER2_TEAM_ABBREVIATION: string (nullable = true)\n",
            " |-- PLAYER2_TEAM_CITY: string (nullable = true)\n",
            " |-- PLAYER2_TEAM_ID: integer (nullable = true)\n",
            " |-- PLAYER2_TEAM_NICKNAME: string (nullable = true)\n",
            " |-- PLAYER3_ID: integer (nullable = true)\n",
            " |-- PLAYER3_NAME: string (nullable = true)\n",
            " |-- PLAYER3_TEAM_ABBREVIATION: string (nullable = true)\n",
            " |-- PLAYER3_TEAM_CITY: string (nullable = true)\n",
            " |-- PLAYER3_TEAM_ID: integer (nullable = true)\n",
            " |-- PLAYER3_TEAM_NICKNAME: string (nullable = true)\n",
            " |-- SCORE: string (nullable = true)\n",
            " |-- SCOREMARGIN: string (nullable = true)\n",
            " |-- VISITORDESCRIPTION: string (nullable = true)\n",
            "\n"
          ]
        },
        {
          "output_type": "execute_result",
          "data": {
            "text/plain": [
              "['EVENTID',\n",
              " 'EVENTNUM',\n",
              " 'GAME_ID',\n",
              " 'HOMEDESCRIPTION',\n",
              " 'PCTIMESTRING',\n",
              " 'PERIOD',\n",
              " 'PLAYER1_ID',\n",
              " 'PLAYER1_NAME',\n",
              " 'PLAYER1_TEAM_ABBREVIATION',\n",
              " 'PLAYER1_TEAM_CITY',\n",
              " 'PLAYER1_TEAM_ID',\n",
              " 'PLAYER1_TEAM_NICKNAME',\n",
              " 'PLAYER2_ID',\n",
              " 'PLAYER2_NAME',\n",
              " 'PLAYER2_TEAM_ABBREVIATION',\n",
              " 'PLAYER2_TEAM_CITY',\n",
              " 'PLAYER2_TEAM_ID',\n",
              " 'PLAYER2_TEAM_NICKNAME',\n",
              " 'PLAYER3_ID',\n",
              " 'PLAYER3_NAME',\n",
              " 'PLAYER3_TEAM_ABBREVIATION',\n",
              " 'PLAYER3_TEAM_CITY',\n",
              " 'PLAYER3_TEAM_ID',\n",
              " 'PLAYER3_TEAM_NICKNAME',\n",
              " 'SCORE',\n",
              " 'SCOREMARGIN',\n",
              " 'VISITORDESCRIPTION']"
            ]
          },
          "metadata": {},
          "execution_count": 15
        }
      ]
    },
    {
      "cell_type": "code",
      "source": [
        "df.show(5)"
      ],
      "metadata": {
        "colab": {
          "base_uri": "https://localhost:8080/"
        },
        "id": "_K7KeNU6JQIi",
        "outputId": "7c7683f2-699a-4582-adae-f69eb05bf1d1"
      },
      "execution_count": null,
      "outputs": [
        {
          "output_type": "stream",
          "name": "stdout",
          "text": [
            "+-------+--------+--------+--------------------+-------------------+------+----------+-------------+-------------------------+-----------------+---------------+---------------------+----------+---------------+-------------------------+-----------------+---------------+---------------------+----------+------------+-------------------------+-----------------+---------------+---------------------+------+-----------+--------------------+\n",
            "|EVENTID|EVENTNUM| GAME_ID|     HOMEDESCRIPTION|       PCTIMESTRING|PERIOD|PLAYER1_ID| PLAYER1_NAME|PLAYER1_TEAM_ABBREVIATION|PLAYER1_TEAM_CITY|PLAYER1_TEAM_ID|PLAYER1_TEAM_NICKNAME|PLAYER2_ID|   PLAYER2_NAME|PLAYER2_TEAM_ABBREVIATION|PLAYER2_TEAM_CITY|PLAYER2_TEAM_ID|PLAYER2_TEAM_NICKNAME|PLAYER3_ID|PLAYER3_NAME|PLAYER3_TEAM_ABBREVIATION|PLAYER3_TEAM_CITY|PLAYER3_TEAM_ID|PLAYER3_TEAM_NICKNAME| SCORE|SCOREMARGIN|  VISITORDESCRIPTION|\n",
            "+-------+--------+--------+--------------------+-------------------+------+----------+-------------+-------------------------+-----------------+---------------+---------------------+----------+---------------+-------------------------+-----------------+---------------+---------------------+----------+------------+-------------------------+-----------------+---------------+---------------------+------+-----------+--------------------+\n",
            "|      0|       0|20001116|                null|2025-03-30 12:00:00|     1|         0|         null|                     null|             null|           null|                 null|         0|           null|                     null|             null|           null|                 null|         0|        null|                     null|             null|           null|                 null|  null|       null|                null|\n",
            "|      1|       1|20001116|Jump Ball Grant v...|2025-03-30 12:00:00|     1|       258|  Brian Grant|                      MIA|            Miami|     1610612748|                 Heat|        87|Dikembe Mutombo|                      PHI|     Philadelphia|     1610612755|                76ers|       238| Tyrone Hill|                      PHI|     Philadelphia|     1610612755|                76ers|  null|       null|                null|\n",
            "|      2|       2|20001116|                null|2025-03-30 11:45:00|     1|       947|Allen Iverson|                      PHI|     Philadelphia|     1610612755|                76ers|         0|           null|                     null|             null|           null|                 null|         0|        null|                     null|             null|           null|                 null| 2 - 0|         -2|Iverson 21' Jump ...|\n",
            "|      3|       3|20001116|                null|2025-03-30 11:28:00|     1|       238|  Tyrone Hill|                      PHI|     Philadelphia|     1610612755|                76ers|         0|           null|                     null|             null|           null|                 null|         0|        null|                     null|             null|           null|                 null|  null|       null| Hill P.FOUL (P1.T1)|\n",
            "|      4|       4|20001116|Mason 17' Jump Sh...|2025-03-30 11:19:00|     1|       193|Anthony Mason|                      MIA|            Miami|     1610612748|                 Heat|         0|           null|                     null|             null|           null|                 null|         0|        null|                     null|             null|           null|                 null|02-Feb|        TIE|                null|\n",
            "+-------+--------+--------+--------------------+-------------------+------+----------+-------------+-------------------------+-----------------+---------------+---------------------+----------+---------------+-------------------------+-----------------+---------------+---------------------+----------+------------+-------------------------+-----------------+---------------+---------------------+------+-----------+--------------------+\n",
            "only showing top 5 rows\n",
            "\n"
          ]
        }
      ]
    },
    {
      "cell_type": "code",
      "source": [
        "from pyspark.sql.functions import udf\n",
        "from pyspark.sql.types import StringType\n",
        "import re\n",
        "\n",
        "# Define month-to-number mapping\n",
        "month_map = {\n",
        "    'Jan': '1', 'Feb': '2', 'Mar': '3', 'Apr': '4',\n",
        "    'May': '5', 'Jun': '6', 'Jul': '7', 'Aug': '8',\n",
        "    'Sep': '9', 'Oct': '10', 'Nov': '11', 'Dec': '12'\n",
        "}\n",
        "\n",
        "def clean_score(score):\n",
        "    if not score or score.strip() == '':\n",
        "        return None\n",
        "\n",
        "    score = score.strip()\n",
        "\n",
        "    # Already valid score format\n",
        "    if re.match(r\"^\\d+\\s*-\\s*\\d+$\", score):\n",
        "        return score\n",
        "\n",
        "    # Handle Month-Day format (e.g., Apr-6 → 6 - 4)\n",
        "    for month_abbr, num in month_map.items():\n",
        "        if month_abbr in score:\n",
        "            parts = score.split('-')\n",
        "            if len(parts) == 2:\n",
        "                if month_abbr in parts[0]:\n",
        "                    return f\"{parts[1].strip()} - {num}\"\n",
        "                elif month_abbr in parts[1]:\n",
        "                    return f\"{parts[0].strip()} - {num}\"\n",
        "\n",
        "    # Try to extract digits in a generic fallback\n",
        "    digits = re.findall(r'\\d+', score)\n",
        "    if len(digits) == 2:\n",
        "        return f\"{digits[0]} - {digits[1]}\"\n",
        "\n",
        "    return None\n",
        "\n",
        "# Register UDF\n",
        "clean_score_udf = udf(clean_score, StringType())\n",
        "\n",
        "# Apply the cleaning function\n",
        "df_cleaned = df.withColumn(\"CLEANED_SCORE\", clean_score_udf(df[\"SCORE\"]))\n",
        "df_cleaned.select(\"SCORE\", \"CLEANED_SCORE\").distinct().show(30, truncate=False)\n"
      ],
      "metadata": {
        "colab": {
          "base_uri": "https://localhost:8080/"
        },
        "id": "jrLTO_x_Bh6l",
        "outputId": "e9289e70-f478-4956-e7a2-d019a110b136"
      },
      "execution_count": null,
      "outputs": [
        {
          "output_type": "stream",
          "name": "stdout",
          "text": [
            "+--------+-------------+\n",
            "|SCORE   |CLEANED_SCORE|\n",
            "+--------+-------------+\n",
            "|63 - 69 |63 - 69      |\n",
            "|83 - 106|83 - 106     |\n",
            "|26 - 29 |26 - 29      |\n",
            "|38 - 39 |38 - 39      |\n",
            "|77 - 90 |77 - 90      |\n",
            "|40 - 42 |40 - 42      |\n",
            "|96 - 90 |96 - 90      |\n",
            "|58 - 50 |58 - 50      |\n",
            "|54 - 74 |54 - 74      |\n",
            "|76 - 83 |76 - 83      |\n",
            "|68 - 103|68 - 103     |\n",
            "|103 - 83|103 - 83     |\n",
            "|71 - 71 |71 - 71      |\n",
            "|49 - 39 |49 - 39      |\n",
            "|47 - 68 |47 - 68      |\n",
            "|70 - 108|70 - 108     |\n",
            "|24 - 44 |24 - 44      |\n",
            "|25 - 31 |25 - 31      |\n",
            "|74 - 112|74 - 112     |\n",
            "|86 - 97 |86 - 97      |\n",
            "|67 - 88 |67 - 88      |\n",
            "|27 - 50 |27 - 50      |\n",
            "|30 - 18 |30 - 18      |\n",
            "|71 - 67 |71 - 67      |\n",
            "|Dec-19  |19 - 12      |\n",
            "|52 - 59 |52 - 59      |\n",
            "|22 - 23 |22 - 23      |\n",
            "|40 - 45 |40 - 45      |\n",
            "|30 - 39 |30 - 39      |\n",
            "|113 - 96|113 - 96     |\n",
            "+--------+-------------+\n",
            "only showing top 30 rows\n",
            "\n"
          ]
        }
      ]
    },
    {
      "cell_type": "code",
      "source": [
        "df.show(5)"
      ],
      "metadata": {
        "colab": {
          "base_uri": "https://localhost:8080/"
        },
        "id": "CGglC2SuBh3h",
        "outputId": "36e3cf87-2b90-4148-d482-ef33a9d84ae3"
      },
      "execution_count": null,
      "outputs": [
        {
          "output_type": "stream",
          "name": "stdout",
          "text": [
            "+-------+--------+--------+--------------------+-------------------+------+----------+-------------+-------------------------+-----------------+---------------+---------------------+----------+---------------+-------------------------+-----------------+---------------+---------------------+----------+------------+-------------------------+-----------------+---------------+---------------------+------+-----------+--------------------+\n",
            "|EVENTID|EVENTNUM| GAME_ID|     HOMEDESCRIPTION|       PCTIMESTRING|PERIOD|PLAYER1_ID| PLAYER1_NAME|PLAYER1_TEAM_ABBREVIATION|PLAYER1_TEAM_CITY|PLAYER1_TEAM_ID|PLAYER1_TEAM_NICKNAME|PLAYER2_ID|   PLAYER2_NAME|PLAYER2_TEAM_ABBREVIATION|PLAYER2_TEAM_CITY|PLAYER2_TEAM_ID|PLAYER2_TEAM_NICKNAME|PLAYER3_ID|PLAYER3_NAME|PLAYER3_TEAM_ABBREVIATION|PLAYER3_TEAM_CITY|PLAYER3_TEAM_ID|PLAYER3_TEAM_NICKNAME| SCORE|SCOREMARGIN|  VISITORDESCRIPTION|\n",
            "+-------+--------+--------+--------------------+-------------------+------+----------+-------------+-------------------------+-----------------+---------------+---------------------+----------+---------------+-------------------------+-----------------+---------------+---------------------+----------+------------+-------------------------+-----------------+---------------+---------------------+------+-----------+--------------------+\n",
            "|      0|       0|20001116|                null|2025-03-30 12:00:00|     1|         0|         null|                     null|             null|           null|                 null|         0|           null|                     null|             null|           null|                 null|         0|        null|                     null|             null|           null|                 null|  null|       null|                null|\n",
            "|      1|       1|20001116|Jump Ball Grant v...|2025-03-30 12:00:00|     1|       258|  Brian Grant|                      MIA|            Miami|     1610612748|                 Heat|        87|Dikembe Mutombo|                      PHI|     Philadelphia|     1610612755|                76ers|       238| Tyrone Hill|                      PHI|     Philadelphia|     1610612755|                76ers|  null|       null|                null|\n",
            "|      2|       2|20001116|                null|2025-03-30 11:45:00|     1|       947|Allen Iverson|                      PHI|     Philadelphia|     1610612755|                76ers|         0|           null|                     null|             null|           null|                 null|         0|        null|                     null|             null|           null|                 null| 2 - 0|         -2|Iverson 21' Jump ...|\n",
            "|      3|       3|20001116|                null|2025-03-30 11:28:00|     1|       238|  Tyrone Hill|                      PHI|     Philadelphia|     1610612755|                76ers|         0|           null|                     null|             null|           null|                 null|         0|        null|                     null|             null|           null|                 null|  null|       null| Hill P.FOUL (P1.T1)|\n",
            "|      4|       4|20001116|Mason 17' Jump Sh...|2025-03-30 11:19:00|     1|       193|Anthony Mason|                      MIA|            Miami|     1610612748|                 Heat|         0|           null|                     null|             null|           null|                 null|         0|        null|                     null|             null|           null|                 null|02-Feb|        TIE|                null|\n",
            "+-------+--------+--------+--------------------+-------------------+------+----------+-------------+-------------------------+-----------------+---------------+---------------------+----------+---------------+-------------------------+-----------------+---------------+---------------------+----------+------------+-------------------------+-----------------+---------------+---------------------+------+-----------+--------------------+\n",
            "only showing top 5 rows\n",
            "\n"
          ]
        }
      ]
    },
    {
      "cell_type": "code",
      "source": [
        "df_cleaned.show(5)"
      ],
      "metadata": {
        "colab": {
          "base_uri": "https://localhost:8080/"
        },
        "id": "j8p4ZI2WBh02",
        "outputId": "77b5dce3-2b69-4fe9-baec-3dee82df9b36"
      },
      "execution_count": null,
      "outputs": [
        {
          "output_type": "stream",
          "name": "stdout",
          "text": [
            "+-------+--------+--------+--------------------+-------------------+------+----------+-------------+-------------------------+-----------------+---------------+---------------------+----------+---------------+-------------------------+-----------------+---------------+---------------------+----------+------------+-------------------------+-----------------+---------------+---------------------+------+-----------+--------------------+-------------+\n",
            "|EVENTID|EVENTNUM| GAME_ID|     HOMEDESCRIPTION|       PCTIMESTRING|PERIOD|PLAYER1_ID| PLAYER1_NAME|PLAYER1_TEAM_ABBREVIATION|PLAYER1_TEAM_CITY|PLAYER1_TEAM_ID|PLAYER1_TEAM_NICKNAME|PLAYER2_ID|   PLAYER2_NAME|PLAYER2_TEAM_ABBREVIATION|PLAYER2_TEAM_CITY|PLAYER2_TEAM_ID|PLAYER2_TEAM_NICKNAME|PLAYER3_ID|PLAYER3_NAME|PLAYER3_TEAM_ABBREVIATION|PLAYER3_TEAM_CITY|PLAYER3_TEAM_ID|PLAYER3_TEAM_NICKNAME| SCORE|SCOREMARGIN|  VISITORDESCRIPTION|CLEANED_SCORE|\n",
            "+-------+--------+--------+--------------------+-------------------+------+----------+-------------+-------------------------+-----------------+---------------+---------------------+----------+---------------+-------------------------+-----------------+---------------+---------------------+----------+------------+-------------------------+-----------------+---------------+---------------------+------+-----------+--------------------+-------------+\n",
            "|      0|       0|20001116|                null|2025-03-30 12:00:00|     1|         0|         null|                     null|             null|           null|                 null|         0|           null|                     null|             null|           null|                 null|         0|        null|                     null|             null|           null|                 null|  null|       null|                null|         null|\n",
            "|      1|       1|20001116|Jump Ball Grant v...|2025-03-30 12:00:00|     1|       258|  Brian Grant|                      MIA|            Miami|     1610612748|                 Heat|        87|Dikembe Mutombo|                      PHI|     Philadelphia|     1610612755|                76ers|       238| Tyrone Hill|                      PHI|     Philadelphia|     1610612755|                76ers|  null|       null|                null|         null|\n",
            "|      2|       2|20001116|                null|2025-03-30 11:45:00|     1|       947|Allen Iverson|                      PHI|     Philadelphia|     1610612755|                76ers|         0|           null|                     null|             null|           null|                 null|         0|        null|                     null|             null|           null|                 null| 2 - 0|         -2|Iverson 21' Jump ...|        2 - 0|\n",
            "|      3|       3|20001116|                null|2025-03-30 11:28:00|     1|       238|  Tyrone Hill|                      PHI|     Philadelphia|     1610612755|                76ers|         0|           null|                     null|             null|           null|                 null|         0|        null|                     null|             null|           null|                 null|  null|       null| Hill P.FOUL (P1.T1)|         null|\n",
            "|      4|       4|20001116|Mason 17' Jump Sh...|2025-03-30 11:19:00|     1|       193|Anthony Mason|                      MIA|            Miami|     1610612748|                 Heat|         0|           null|                     null|             null|           null|                 null|         0|        null|                     null|             null|           null|                 null|02-Feb|        TIE|                null|       02 - 2|\n",
            "+-------+--------+--------+--------------------+-------------------+------+----------+-------------+-------------------------+-----------------+---------------+---------------------+----------+---------------+-------------------------+-----------------+---------------+---------------------+----------+------------+-------------------------+-----------------+---------------+---------------------+------+-----------+--------------------+-------------+\n",
            "only showing top 5 rows\n",
            "\n"
          ]
        }
      ]
    },
    {
      "cell_type": "code",
      "source": [
        "from pyspark.sql.functions import col\n",
        "\n",
        "df_cleaned = df_cleaned.withColumn(\"SCOREMARGIN_INT\", col(\"SCOREMARGIN\").cast(\"int\"))"
      ],
      "metadata": {
        "id": "_MRZvnZmP4Q0"
      },
      "execution_count": null,
      "outputs": []
    },
    {
      "cell_type": "code",
      "source": [
        "from pyspark.sql.functions import split, col\n",
        "\n",
        "# Split CLEANED_SCORE into two new columns: HOME_SCORE and VISITOR_SCORE\n",
        "df_cleaned = df_cleaned.withColumn(\"HOME_SCORE\", split(col(\"CLEANED_SCORE\"), \" - \").getItem(0).cast(\"int\")) \\\n",
        "                           .withColumn(\"VISITOR_SCORE\", split(col(\"CLEANED_SCORE\"), \" - \").getItem(1).cast(\"int\"))\n"
      ],
      "metadata": {
        "id": "_pBbAYkxBhyJ"
      },
      "execution_count": null,
      "outputs": []
    },
    {
      "cell_type": "code",
      "source": [
        "df_cleaned.show(5)"
      ],
      "metadata": {
        "colab": {
          "base_uri": "https://localhost:8080/"
        },
        "id": "Jb7WMalZPq18",
        "outputId": "cd2a42a9-b7bb-4cf9-9658-d180c315456e"
      },
      "execution_count": null,
      "outputs": [
        {
          "output_type": "stream",
          "name": "stdout",
          "text": [
            "+-------+--------+--------+--------------------+-------------------+------+----------+-------------+-------------------------+-----------------+---------------+---------------------+----------+---------------+-------------------------+-----------------+---------------+---------------------+----------+------------+-------------------------+-----------------+---------------+---------------------+------+-----------+--------------------+-------------+---------------+----------+-------------+\n",
            "|EVENTID|EVENTNUM| GAME_ID|     HOMEDESCRIPTION|       PCTIMESTRING|PERIOD|PLAYER1_ID| PLAYER1_NAME|PLAYER1_TEAM_ABBREVIATION|PLAYER1_TEAM_CITY|PLAYER1_TEAM_ID|PLAYER1_TEAM_NICKNAME|PLAYER2_ID|   PLAYER2_NAME|PLAYER2_TEAM_ABBREVIATION|PLAYER2_TEAM_CITY|PLAYER2_TEAM_ID|PLAYER2_TEAM_NICKNAME|PLAYER3_ID|PLAYER3_NAME|PLAYER3_TEAM_ABBREVIATION|PLAYER3_TEAM_CITY|PLAYER3_TEAM_ID|PLAYER3_TEAM_NICKNAME| SCORE|SCOREMARGIN|  VISITORDESCRIPTION|CLEANED_SCORE|SCOREMARGIN_INT|HOME_SCORE|VISITOR_SCORE|\n",
            "+-------+--------+--------+--------------------+-------------------+------+----------+-------------+-------------------------+-----------------+---------------+---------------------+----------+---------------+-------------------------+-----------------+---------------+---------------------+----------+------------+-------------------------+-----------------+---------------+---------------------+------+-----------+--------------------+-------------+---------------+----------+-------------+\n",
            "|      0|       0|20001116|                null|2025-03-30 12:00:00|     1|         0|         null|                     null|             null|           null|                 null|         0|           null|                     null|             null|           null|                 null|         0|        null|                     null|             null|           null|                 null|  null|       null|                null|         null|           null|      null|         null|\n",
            "|      1|       1|20001116|Jump Ball Grant v...|2025-03-30 12:00:00|     1|       258|  Brian Grant|                      MIA|            Miami|     1610612748|                 Heat|        87|Dikembe Mutombo|                      PHI|     Philadelphia|     1610612755|                76ers|       238| Tyrone Hill|                      PHI|     Philadelphia|     1610612755|                76ers|  null|       null|                null|         null|           null|      null|         null|\n",
            "|      2|       2|20001116|                null|2025-03-30 11:45:00|     1|       947|Allen Iverson|                      PHI|     Philadelphia|     1610612755|                76ers|         0|           null|                     null|             null|           null|                 null|         0|        null|                     null|             null|           null|                 null| 2 - 0|         -2|Iverson 21' Jump ...|        2 - 0|             -2|         2|            0|\n",
            "|      3|       3|20001116|                null|2025-03-30 11:28:00|     1|       238|  Tyrone Hill|                      PHI|     Philadelphia|     1610612755|                76ers|         0|           null|                     null|             null|           null|                 null|         0|        null|                     null|             null|           null|                 null|  null|       null| Hill P.FOUL (P1.T1)|         null|           null|      null|         null|\n",
            "|      4|       4|20001116|Mason 17' Jump Sh...|2025-03-30 11:19:00|     1|       193|Anthony Mason|                      MIA|            Miami|     1610612748|                 Heat|         0|           null|                     null|             null|           null|                 null|         0|        null|                     null|             null|           null|                 null|02-Feb|        TIE|                null|       02 - 2|           null|         2|            2|\n",
            "+-------+--------+--------+--------------------+-------------------+------+----------+-------------+-------------------------+-----------------+---------------+---------------------+----------+---------------+-------------------------+-----------------+---------------+---------------------+----------+------------+-------------------------+-----------------+---------------+---------------------+------+-----------+--------------------+-------------+---------------+----------+-------------+\n",
            "only showing top 5 rows\n",
            "\n"
          ]
        }
      ]
    },
    {
      "cell_type": "code",
      "source": [
        "# spark.conf.set(\"spark.sql.execution.pandas.convertToPythonArrow\", \"false\")"
      ],
      "metadata": {
        "id": "J-7N9hTgRl-W"
      },
      "execution_count": null,
      "outputs": []
    },
    {
      "cell_type": "code",
      "source": [
        "from pyspark.sql.functions import col, count, when\n",
        "\n",
        "# Total row count\n",
        "total_rows = df_cleaned.count()\n",
        "\n",
        "# Missing value count per column\n",
        "missing_data = df_cleaned.select([\n",
        "    (count(when(col(c).isNull(), c)) / total_rows * 100).alias(c)\n",
        "    for c in df_cleaned.columns\n",
        "])\n",
        "\n",
        "# Show missing percentage for each column\n",
        "missing_data.show(truncate=False)\n"
      ],
      "metadata": {
        "colab": {
          "base_uri": "https://localhost:8080/"
        },
        "id": "O6I8UKoNQ2Gh",
        "outputId": "05abbf76-66d6-426d-d9d5-9d3a912096bb"
      },
      "execution_count": null,
      "outputs": [
        {
          "output_type": "stream",
          "name": "stdout",
          "text": [
            "+-------+--------+-------+---------------+------------+------+----------+-----------------+-------------------------+-----------------+-----------------+---------------------+----------+-----------------+-------------------------+-----------------+-----------------+---------------------+----------+-----------------+-------------------------+-----------------+-----------------+---------------------+-----------------+-----------------+------------------+-----------------+-----------------+-----------------+-----------------+\n",
            "|EVENTID|EVENTNUM|GAME_ID|HOMEDESCRIPTION|PCTIMESTRING|PERIOD|PLAYER1_ID|PLAYER1_NAME     |PLAYER1_TEAM_ABBREVIATION|PLAYER1_TEAM_CITY|PLAYER1_TEAM_ID  |PLAYER1_TEAM_NICKNAME|PLAYER2_ID|PLAYER2_NAME     |PLAYER2_TEAM_ABBREVIATION|PLAYER2_TEAM_CITY|PLAYER2_TEAM_ID  |PLAYER2_TEAM_NICKNAME|PLAYER3_ID|PLAYER3_NAME     |PLAYER3_TEAM_ABBREVIATION|PLAYER3_TEAM_CITY|PLAYER3_TEAM_ID  |PLAYER3_TEAM_NICKNAME|SCORE            |SCOREMARGIN      |VISITORDESCRIPTION|CLEANED_SCORE    |SCOREMARGIN_INT  |HOME_SCORE       |VISITOR_SCORE    |\n",
            "+-------+--------+-------+---------------+------------+------+----------+-----------------+-------------------------+-----------------+-----------------+---------------------+----------+-----------------+-------------------------+-----------------+-----------------+---------------------+----------+-----------------+-------------------------+-----------------+-----------------+---------------------+-----------------+-----------------+------------------+-----------------+-----------------+-----------------+-----------------+\n",
            "|0.0    |0.0     |0.0    |47.729822842423|0.0         |0.0   |0.0       |9.196864579547071|9.196864579547071        |9.196864579547071|9.196864579547071|9.196864579547071    |0.0       |78.46136826967145|78.46136826967145        |78.46136826967145|78.46136826967145|78.46136826967145    |0.0       |97.20909651216083|97.20909651216083        |97.20909651216083|97.20909651216083|97.20909651216083    |74.24103544731892|74.24103544731892|48.74361932455711 |74.24103544731892|75.57564359877996|74.24103544731892|74.24103544731892|\n",
            "+-------+--------+-------+---------------+------------+------+----------+-----------------+-------------------------+-----------------+-----------------+---------------------+----------+-----------------+-------------------------+-----------------+-----------------+---------------------+----------+-----------------+-------------------------+-----------------+-----------------+---------------------+-----------------+-----------------+------------------+-----------------+-----------------+-----------------+-----------------+\n",
            "\n"
          ]
        }
      ]
    },
    {
      "cell_type": "code",
      "source": [
        "df_cleaned_filtered = df_cleaned.na.drop(subset=[\"CLEANED_SCORE\", \"HOME_SCORE\", \"VISITOR_SCORE\", \"SCOREMARGIN_INT\"])"
      ],
      "metadata": {
        "id": "AZuoTLi9TOZj"
      },
      "execution_count": null,
      "outputs": []
    },
    {
      "cell_type": "code",
      "source": [
        "from pyspark.sql.functions import col\n",
        "\n",
        "df_cleaned_filtered = df_cleaned_filtered.withColumn(\"HOME_SCORE\", col(\"HOME_SCORE\").cast(\"int\")) \\\n",
        "                                         .withColumn(\"VISITOR_SCORE\", col(\"VISITOR_SCORE\").cast(\"int\")) \\\n",
        "                                         .withColumn(\"SCOREMARGIN_INT\", col(\"SCOREMARGIN_INT\").cast(\"int\"))\n"
      ],
      "metadata": {
        "id": "LuaIs-4lTRQD"
      },
      "execution_count": null,
      "outputs": []
    },
    {
      "cell_type": "code",
      "source": [
        "from pyspark.sql.functions import col, count, when\n",
        "\n",
        "# Total row count\n",
        "total_rows = df_cleaned_filtered.count()\n",
        "\n",
        "# Missing value count per column\n",
        "missing_data2 = df_cleaned_filtered.select([\n",
        "    (count(when(col(c).isNull(), c)) / total_rows * 100).alias(c)\n",
        "    for c in df_cleaned_filtered.columns\n",
        "])\n",
        "\n",
        "# Show missing percentage for each column\n",
        "missing_data2.show(truncate=False)\n"
      ],
      "metadata": {
        "colab": {
          "base_uri": "https://localhost:8080/"
        },
        "id": "VSq-4_l1ThC1",
        "outputId": "39981d98-c64d-4319-fc06-8304e0361890"
      },
      "execution_count": null,
      "outputs": [
        {
          "output_type": "stream",
          "name": "stdout",
          "text": [
            "+-------+--------+-------+------------------+------------+------+----------+-----------------+-------------------------+-----------------+-----------------+---------------------+----------+-----------------+-------------------------+-----------------+-----------------+---------------------+----------+------------+-------------------------+-----------------+---------------+---------------------+-----+-----------+------------------+-------------+---------------+----------+-------------+\n",
            "|EVENTID|EVENTNUM|GAME_ID|HOMEDESCRIPTION   |PCTIMESTRING|PERIOD|PLAYER1_ID|PLAYER1_NAME     |PLAYER1_TEAM_ABBREVIATION|PLAYER1_TEAM_CITY|PLAYER1_TEAM_ID  |PLAYER1_TEAM_NICKNAME|PLAYER2_ID|PLAYER2_NAME     |PLAYER2_TEAM_ABBREVIATION|PLAYER2_TEAM_CITY|PLAYER2_TEAM_ID  |PLAYER2_TEAM_NICKNAME|PLAYER3_ID|PLAYER3_NAME|PLAYER3_TEAM_ABBREVIATION|PLAYER3_TEAM_CITY|PLAYER3_TEAM_ID|PLAYER3_TEAM_NICKNAME|SCORE|SCOREMARGIN|VISITORDESCRIPTION|CLEANED_SCORE|SCOREMARGIN_INT|HOME_SCORE|VISITOR_SCORE|\n",
            "+-------+--------+-------+------------------+------------+------+----------+-----------------+-------------------------+-----------------+-----------------+---------------------+----------+-----------------+-------------------------+-----------------+-----------------+---------------------+----------+------------+-------------------------+-----------------+---------------+---------------------+-----+-----------+------------------+-------------+---------------+----------+-------------+\n",
            "|0.0    |0.0     |0.0    |52.060821740537044|0.0         |0.0   |0.0       |6.133937237140084|6.133937237140084        |6.133937237140084|6.133937237140084|6.133937237140084    |0.0       |62.42639922355225|62.42639922355225        |62.42639922355225|62.42639922355225|62.42639922355225    |0.0       |100.0       |100.0                    |100.0            |100.0          |100.0                |0.0  |0.0        |54.073115496603045|0.0          |0.0            |0.0       |0.0          |\n",
            "+-------+--------+-------+------------------+------------+------+----------+-----------------+-------------------------+-----------------+-----------------+---------------------+----------+-----------------+-------------------------+-----------------+-----------------+---------------------+----------+------------+-------------------------+-----------------+---------------+---------------------+-----+-----------+------------------+-------------+---------------+----------+-------------+\n",
            "\n"
          ]
        }
      ]
    },
    {
      "cell_type": "code",
      "source": [
        "from pyspark.sql.functions import col\n",
        "\n",
        "# Drop original columns\n",
        "df_prepared = df_cleaned_filtered.drop(\"SCORE\", \"SCOREMARGIN\")"
      ],
      "metadata": {
        "id": "zKEg4aMmUmzc"
      },
      "execution_count": null,
      "outputs": []
    },
    {
      "cell_type": "code",
      "source": [
        "df_prepared.show(5)"
      ],
      "metadata": {
        "colab": {
          "base_uri": "https://localhost:8080/"
        },
        "id": "pUGTKqgkVMic",
        "outputId": "1f547170-9880-402e-9a3c-2c591ecf39dd"
      },
      "execution_count": null,
      "outputs": [
        {
          "output_type": "stream",
          "name": "stdout",
          "text": [
            "+-------+--------+--------+--------------------+-------------------+------+----------+-------------+-------------------------+-----------------+---------------+---------------------+----------+---------------+-------------------------+-----------------+---------------+---------------------+----------+------------+-------------------------+-----------------+---------------+---------------------+--------------------+-------------+---------------+----------+-------------+\n",
            "|EVENTID|EVENTNUM| GAME_ID|     HOMEDESCRIPTION|       PCTIMESTRING|PERIOD|PLAYER1_ID| PLAYER1_NAME|PLAYER1_TEAM_ABBREVIATION|PLAYER1_TEAM_CITY|PLAYER1_TEAM_ID|PLAYER1_TEAM_NICKNAME|PLAYER2_ID|   PLAYER2_NAME|PLAYER2_TEAM_ABBREVIATION|PLAYER2_TEAM_CITY|PLAYER2_TEAM_ID|PLAYER2_TEAM_NICKNAME|PLAYER3_ID|PLAYER3_NAME|PLAYER3_TEAM_ABBREVIATION|PLAYER3_TEAM_CITY|PLAYER3_TEAM_ID|PLAYER3_TEAM_NICKNAME|  VISITORDESCRIPTION|CLEANED_SCORE|SCOREMARGIN_INT|HOME_SCORE|VISITOR_SCORE|\n",
            "+-------+--------+--------+--------------------+-------------------+------+----------+-------------+-------------------------+-----------------+---------------+---------------------+----------+---------------+-------------------------+-----------------+---------------+---------------------+----------+------------+-------------------------+-----------------+---------------+---------------------+--------------------+-------------+---------------+----------+-------------+\n",
            "|      2|       2|20001116|                null|2025-03-30 11:45:00|     1|       947|Allen Iverson|                      PHI|     Philadelphia|     1610612755|                76ers|         0|           null|                     null|             null|           null|                 null|         0|        null|                     null|             null|           null|                 null|Iverson 21' Jump ...|        2 - 0|             -2|         2|            0|\n",
            "|      9|       9|20001116|                null|2025-03-30 10:44:00|     1|       248| George Lynch|                      PHI|     Philadelphia|     1610612755|                76ers|       727|      Eric Snow|                      PHI|     Philadelphia|     1610612755|                76ers|         0|        null|                     null|             null|           null|                 null|Lynch  Layup (2 P...|       04 - 2|             -2|         4|            2|\n",
            "|     19|      19|20001116|                null|2025-03-30 09:45:00|     1|       947|Allen Iverson|                      PHI|     Philadelphia|     1610612755|                76ers|         0|           null|                     null|             null|           null|                 null|         0|        null|                     null|             null|           null|                 null|Iverson  Driving ...|       06 - 2|             -4|         6|            2|\n",
            "|     23|      24|20001116|                null|2025-03-30 09:15:00|     1|       947|Allen Iverson|                      PHI|     Philadelphia|     1610612755|                76ers|        87|Dikembe Mutombo|                      PHI|     Philadelphia|     1610612755|                76ers|         0|        null|                     null|             null|           null|                 null|Iverson 24' 3PT J...|       09 - 2|             -7|         9|            2|\n",
            "|     24|      25|20001116|Grant 17' Jump Sh...|2025-03-30 08:54:00|     1|       258|  Brian Grant|                      MIA|            Miami|     1610612748|                 Heat|       105|    Dan Majerle|                      MIA|            Miami|     1610612748|                 Heat|         0|        null|                     null|             null|           null|                 null|                null|       09 - 4|             -5|         9|            4|\n",
            "+-------+--------+--------+--------------------+-------------------+------+----------+-------------+-------------------------+-----------------+---------------+---------------------+----------+---------------+-------------------------+-----------------+---------------+---------------------+----------+------------+-------------------------+-----------------+---------------+---------------------+--------------------+-------------+---------------+----------+-------------+\n",
            "only showing top 5 rows\n",
            "\n"
          ]
        }
      ]
    },
    {
      "cell_type": "code",
      "source": [
        "# Rename new processed columns\n",
        "df_prepared = df_prepared.withColumnRenamed(\"CLEANED_SCORE\", \"SCORE\") \\\n",
        "                         .withColumnRenamed(\"SCOREMARGIN_INT\", \"SCOREMARGIN\")"
      ],
      "metadata": {
        "id": "XJsmsiuEVMNW"
      },
      "execution_count": null,
      "outputs": []
    },
    {
      "cell_type": "code",
      "source": [
        "# Show updated DataFrame schema\n",
        "df_prepared.printSchema()"
      ],
      "metadata": {
        "colab": {
          "base_uri": "https://localhost:8080/"
        },
        "id": "SYDLFwXAUw5v",
        "outputId": "a7746e43-c79e-48a4-da39-5671e03618bd"
      },
      "execution_count": null,
      "outputs": [
        {
          "output_type": "stream",
          "name": "stdout",
          "text": [
            "root\n",
            " |-- EVENTID: integer (nullable = true)\n",
            " |-- EVENTNUM: integer (nullable = true)\n",
            " |-- GAME_ID: integer (nullable = true)\n",
            " |-- HOMEDESCRIPTION: string (nullable = true)\n",
            " |-- PCTIMESTRING: timestamp (nullable = true)\n",
            " |-- PERIOD: integer (nullable = true)\n",
            " |-- PLAYER1_ID: integer (nullable = true)\n",
            " |-- PLAYER1_NAME: string (nullable = true)\n",
            " |-- PLAYER1_TEAM_ABBREVIATION: string (nullable = true)\n",
            " |-- PLAYER1_TEAM_CITY: string (nullable = true)\n",
            " |-- PLAYER1_TEAM_ID: integer (nullable = true)\n",
            " |-- PLAYER1_TEAM_NICKNAME: string (nullable = true)\n",
            " |-- PLAYER2_ID: integer (nullable = true)\n",
            " |-- PLAYER2_NAME: string (nullable = true)\n",
            " |-- PLAYER2_TEAM_ABBREVIATION: string (nullable = true)\n",
            " |-- PLAYER2_TEAM_CITY: string (nullable = true)\n",
            " |-- PLAYER2_TEAM_ID: integer (nullable = true)\n",
            " |-- PLAYER2_TEAM_NICKNAME: string (nullable = true)\n",
            " |-- PLAYER3_ID: integer (nullable = true)\n",
            " |-- PLAYER3_NAME: string (nullable = true)\n",
            " |-- PLAYER3_TEAM_ABBREVIATION: string (nullable = true)\n",
            " |-- PLAYER3_TEAM_CITY: string (nullable = true)\n",
            " |-- PLAYER3_TEAM_ID: integer (nullable = true)\n",
            " |-- PLAYER3_TEAM_NICKNAME: string (nullable = true)\n",
            " |-- VISITORDESCRIPTION: string (nullable = true)\n",
            " |-- SCORE: string (nullable = true)\n",
            " |-- SCOREMARGIN: integer (nullable = true)\n",
            " |-- HOME_SCORE: integer (nullable = true)\n",
            " |-- VISITOR_SCORE: integer (nullable = true)\n",
            "\n"
          ]
        }
      ]
    },
    {
      "cell_type": "code",
      "source": [
        "# Show top few rows\n",
        "df_prepared.show(5)"
      ],
      "metadata": {
        "colab": {
          "base_uri": "https://localhost:8080/"
        },
        "id": "6ZR94I53UzBG",
        "outputId": "c981f24a-a211-436d-ea15-d76f852c83f5"
      },
      "execution_count": null,
      "outputs": [
        {
          "output_type": "stream",
          "name": "stdout",
          "text": [
            "+-------+--------+--------+--------------------+-------------------+------+----------+-------------+-------------------------+-----------------+---------------+---------------------+----------+---------------+-------------------------+-----------------+---------------+---------------------+----------+------------+-------------------------+-----------------+---------------+---------------------+--------------------+------+-----------+----------+-------------+\n",
            "|EVENTID|EVENTNUM| GAME_ID|     HOMEDESCRIPTION|       PCTIMESTRING|PERIOD|PLAYER1_ID| PLAYER1_NAME|PLAYER1_TEAM_ABBREVIATION|PLAYER1_TEAM_CITY|PLAYER1_TEAM_ID|PLAYER1_TEAM_NICKNAME|PLAYER2_ID|   PLAYER2_NAME|PLAYER2_TEAM_ABBREVIATION|PLAYER2_TEAM_CITY|PLAYER2_TEAM_ID|PLAYER2_TEAM_NICKNAME|PLAYER3_ID|PLAYER3_NAME|PLAYER3_TEAM_ABBREVIATION|PLAYER3_TEAM_CITY|PLAYER3_TEAM_ID|PLAYER3_TEAM_NICKNAME|  VISITORDESCRIPTION| SCORE|SCOREMARGIN|HOME_SCORE|VISITOR_SCORE|\n",
            "+-------+--------+--------+--------------------+-------------------+------+----------+-------------+-------------------------+-----------------+---------------+---------------------+----------+---------------+-------------------------+-----------------+---------------+---------------------+----------+------------+-------------------------+-----------------+---------------+---------------------+--------------------+------+-----------+----------+-------------+\n",
            "|      2|       2|20001116|                null|2025-03-30 11:45:00|     1|       947|Allen Iverson|                      PHI|     Philadelphia|     1610612755|                76ers|         0|           null|                     null|             null|           null|                 null|         0|        null|                     null|             null|           null|                 null|Iverson 21' Jump ...| 2 - 0|         -2|         2|            0|\n",
            "|      9|       9|20001116|                null|2025-03-30 10:44:00|     1|       248| George Lynch|                      PHI|     Philadelphia|     1610612755|                76ers|       727|      Eric Snow|                      PHI|     Philadelphia|     1610612755|                76ers|         0|        null|                     null|             null|           null|                 null|Lynch  Layup (2 P...|04 - 2|         -2|         4|            2|\n",
            "|     19|      19|20001116|                null|2025-03-30 09:45:00|     1|       947|Allen Iverson|                      PHI|     Philadelphia|     1610612755|                76ers|         0|           null|                     null|             null|           null|                 null|         0|        null|                     null|             null|           null|                 null|Iverson  Driving ...|06 - 2|         -4|         6|            2|\n",
            "|     23|      24|20001116|                null|2025-03-30 09:15:00|     1|       947|Allen Iverson|                      PHI|     Philadelphia|     1610612755|                76ers|        87|Dikembe Mutombo|                      PHI|     Philadelphia|     1610612755|                76ers|         0|        null|                     null|             null|           null|                 null|Iverson 24' 3PT J...|09 - 2|         -7|         9|            2|\n",
            "|     24|      25|20001116|Grant 17' Jump Sh...|2025-03-30 08:54:00|     1|       258|  Brian Grant|                      MIA|            Miami|     1610612748|                 Heat|       105|    Dan Majerle|                      MIA|            Miami|     1610612748|                 Heat|         0|        null|                     null|             null|           null|                 null|                null|09 - 4|         -5|         9|            4|\n",
            "+-------+--------+--------+--------------------+-------------------+------+----------+-------------+-------------------------+-----------------+---------------+---------------------+----------+---------------+-------------------------+-----------------+---------------+---------------------+----------+------------+-------------------------+-----------------+---------------+---------------------+--------------------+------+-----------+----------+-------------+\n",
            "only showing top 5 rows\n",
            "\n"
          ]
        }
      ]
    },
    {
      "cell_type": "code",
      "source": [
        "df_prepared.describe().show()"
      ],
      "metadata": {
        "colab": {
          "base_uri": "https://localhost:8080/"
        },
        "id": "B5Q1nsLM5MLn",
        "outputId": "0c6887c7-e890-4e2b-9bad-a5954ddd7c3d"
      },
      "execution_count": null,
      "outputs": [
        {
          "output_type": "stream",
          "name": "stdout",
          "text": [
            "+-------+------------------+-----------------+-------------------+--------------------+------------------+-----------------+------------------+-------------------------+-----------------+-------------------+---------------------+------------------+------------------+-------------------------+-----------------+-------------------+---------------------+----------+------------+-------------------------+-----------------+---------------+---------------------+--------------------+-------+------------------+-----------------+------------------+\n",
            "|summary|           EVENTID|         EVENTNUM|            GAME_ID|     HOMEDESCRIPTION|            PERIOD|       PLAYER1_ID|      PLAYER1_NAME|PLAYER1_TEAM_ABBREVIATION|PLAYER1_TEAM_CITY|    PLAYER1_TEAM_ID|PLAYER1_TEAM_NICKNAME|        PLAYER2_ID|      PLAYER2_NAME|PLAYER2_TEAM_ABBREVIATION|PLAYER2_TEAM_CITY|    PLAYER2_TEAM_ID|PLAYER2_TEAM_NICKNAME|PLAYER3_ID|PLAYER3_NAME|PLAYER3_TEAM_ABBREVIATION|PLAYER3_TEAM_CITY|PLAYER3_TEAM_ID|PLAYER3_TEAM_NICKNAME|  VISITORDESCRIPTION|  SCORE|       SCOREMARGIN|       HOME_SCORE|     VISITOR_SCORE|\n",
            "+-------+------------------+-----------------+-------------------+--------------------+------------------+-----------------+------------------+-------------------------+-----------------+-------------------+---------------------+------------------+------------------+-------------------------+-----------------+-------------------+---------------------+----------+------------+-------------------------+-----------------+---------------+---------------------+--------------------+-------+------------------+-----------------+------------------+\n",
            "|  count|             30910|            30910|              30910|               14818|             30910|            30910|             29014|                    29014|            29014|              29014|                29014|             30910|             11614|                    11614|            11614|              11614|                11614|     30910|           0|                        0|                0|              0|                    0|               14196|  30910|             30910|            30910|             30910|\n",
            "|   mean| 229.1183112261404|242.4390164995147|2.000060062963442E7|                null|2.5675833063733418|913.8006146878033|              null|                     null|             null|1.610612751987937E9|                 null|348.57023616952443|              null|                     null|             null|1.610612751991562E9|                 null|       0.0|        null|                     null|             null|           null|                 null|                null|   null|2.0432222581688775|49.74917502426399| 51.48828857974765|\n",
            "| stddev|131.32889847041506|140.1409252847461| 337.27057920200616|                null|1.1255048147961078|682.2313748621033|              null|                     null|             null|   8.54413441851518|                 null| 608.9194083012843|              null|                     null|             null|  8.556412207862829|                 null|       0.0|        null|                     null|             null|           null|                 null|                null|   null| 10.30696837942105|27.82870071210746|29.202123645033947|\n",
            "|    min|                 2|                1|           20000006|Abdul-Rauf 14' Ju...|                 1|                0|        A.C. Green|                      ATL|          Atlanta|         1610612737|                76ers|                 0|        A.C. Green|                      ATL|          Atlanta|         1610612737|                76ers|         0|        null|                     null|             null|           null|                 null|Abdul-Rauf  Layup...|  0 - 1|               -47|                0|                 0|\n",
            "|    max|               582|              646|           20001189|Wright Free Throw...|                 6|             2143|Zydrunas Ilgauskas|                      WAS|       Washington|         1610612766|              Wizards|              2173|Zydrunas Ilgauskas|                      WAS|       Washington|         1610612766|              Wizards|         0|        null|                     null|             null|           null|                 null|Wright Free Throw...|99 - 98|                40|              129|               126|\n",
            "+-------+------------------+-----------------+-------------------+--------------------+------------------+-----------------+------------------+-------------------------+-----------------+-------------------+---------------------+------------------+------------------+-------------------------+-----------------+-------------------+---------------------+----------+------------+-------------------------+-----------------+---------------+---------------------+--------------------+-------+------------------+-----------------+------------------+\n",
            "\n"
          ]
        }
      ]
    },
    {
      "cell_type": "markdown",
      "source": [
        "[Task 1] Percentage of teams who lost with more than 15"
      ],
      "metadata": {
        "id": "8qnJvIlbVwZ9"
      }
    },
    {
      "cell_type": "code",
      "source": [
        "from pyspark.sql.functions import col, abs\n",
        "\n",
        "# Filter rows with valid SCOREMARGIN\n",
        "valid_margin_df = df_prepared.filter(col(\"SCOREMARGIN\").isNotNull())\n",
        "\n",
        "# Total matches with valid score margin\n",
        "total_with_margin = valid_margin_df.count()\n",
        "\n",
        "# Count losses with margin > 15 (i.e. SCOREMARGIN < -15)\n",
        "losses_gt_15 = valid_margin_df.filter(col(\"SCOREMARGIN\") < -15).count()\n",
        "\n",
        "# Calculate percentage\n",
        "loss_percentage = (losses_gt_15 / total_with_margin) * 100\n",
        "\n",
        "print(f\"Percentage of teams who lost with more than 15: {loss_percentage:.2f}%\")\n"
      ],
      "metadata": {
        "colab": {
          "base_uri": "https://localhost:8080/"
        },
        "id": "OAPEmPfaVw0X",
        "outputId": "29c1b9c0-d8e4-4af3-c5d4-e0b77682e4e5"
      },
      "execution_count": null,
      "outputs": [
        {
          "output_type": "stream",
          "name": "stdout",
          "text": [
            "Percentage of teams who lost with more than 15: 4.31%\n"
          ]
        }
      ]
    },
    {
      "cell_type": "markdown",
      "source": [
        "[Task 2] Total number of matches won by each team"
      ],
      "metadata": {
        "id": "BCOkAokjV1xH"
      }
    },
    {
      "cell_type": "code",
      "source": [
        "from pyspark.sql.functions import split, when\n",
        "\n",
        "# Split SCORE into home and visitor score\n",
        "score_split_df = df_prepared.withColumn(\"home_score\", split(\"SCORE\", \" - \").getItem(0).cast(\"int\")) \\\n",
        "                            .withColumn(\"visitor_score\", split(\"SCORE\", \" - \").getItem(1).cast(\"int\"))\n",
        "\n",
        "# Determine winner team nickname\n",
        "result_df = score_split_df.withColumn(\n",
        "    \"winning_team\",\n",
        "    when(col(\"home_score\") > col(\"visitor_score\"), col(\"PLAYER1_TEAM_NICKNAME\")) \\\n",
        "    .when(col(\"visitor_score\") > col(\"home_score\"), col(\"PLAYER2_TEAM_NICKNAME\"))\n",
        ")\n",
        "\n",
        "# Count wins per team\n",
        "wins_per_team = result_df.groupBy(\"winning_team\").count().orderBy(col(\"count\").desc())\n",
        "\n",
        "# Show results\n",
        "wins_per_team.show(truncate=False)\n"
      ],
      "metadata": {
        "colab": {
          "base_uri": "https://localhost:8080/"
        },
        "id": "qTZLVLzGV2Eq",
        "outputId": "7e263139-08ac-4ec0-cadb-3b5b847654b0"
      },
      "execution_count": null,
      "outputs": [
        {
          "output_type": "stream",
          "name": "stdout",
          "text": [
            "+-------------+-----+\n",
            "|winning_team |count|\n",
            "+-------------+-----+\n",
            "|null         |11638|\n",
            "|Bucks        |935  |\n",
            "|Raptors      |879  |\n",
            "|76ers        |873  |\n",
            "|Clippers     |864  |\n",
            "|Kings        |854  |\n",
            "|Wizards      |853  |\n",
            "|Nuggets      |813  |\n",
            "|Warriors     |708  |\n",
            "|Bulls        |693  |\n",
            "|Pacers       |676  |\n",
            "|Pistons      |653  |\n",
            "|Cavaliers    |651  |\n",
            "|SuperSonics  |648  |\n",
            "|Hornets      |646  |\n",
            "|Knicks       |642  |\n",
            "|Suns         |631  |\n",
            "|Celtics      |628  |\n",
            "|Hawks        |617  |\n",
            "|Trail Blazers|607  |\n",
            "+-------------+-----+\n",
            "only showing top 20 rows\n",
            "\n"
          ]
        }
      ]
    },
    {
      "cell_type": "markdown",
      "source": [
        "Task 3 - Performing Machine Learning model using Spark MLlib\n"
      ],
      "metadata": {
        "id": "_4cgg9Ccqwi1"
      }
    },
    {
      "cell_type": "markdown",
      "source": [
        "Identify Teams per GAME_ID and their Q1 Scores"
      ],
      "metadata": {
        "id": "D4EUZpLN6a2y"
      }
    },
    {
      "cell_type": "code",
      "source": [
        "from pyspark.sql.functions import col, max as spark_max, first, last, when\n",
        "\n",
        "# Filter to Q1 data only\n",
        "df_q1 = df_prepared.filter(col(\"PERIOD\") == 1)\n",
        "\n",
        "# Extract last Q1 score per team per GAME_ID\n",
        "team_scores_q1 = df_q1.groupBy(\"GAME_ID\", \"PLAYER1_TEAM_ABBREVIATION\") \\\n",
        "    .agg(\n",
        "        spark_max(\"HOME_SCORE\").alias(\"HOME_SCORE_Q1\"),\n",
        "        spark_max(\"VISITOR_SCORE\").alias(\"VISITOR_SCORE_Q1\")\n",
        "    )\n"
      ],
      "metadata": {
        "id": "F0ek5cOQrlH9"
      },
      "execution_count": null,
      "outputs": []
    },
    {
      "cell_type": "code",
      "source": [],
      "metadata": {
        "id": "YUExj2j76i0T"
      },
      "execution_count": null,
      "outputs": []
    },
    {
      "cell_type": "markdown",
      "source": [
        "Determine Home and Visitor teams per GAME_ID"
      ],
      "metadata": {
        "id": "DYIVyXHJ6jhX"
      }
    },
    {
      "cell_type": "code",
      "source": [
        "home_visitor_teams = df_prepared.select(\n",
        "    \"GAME_ID\",\n",
        "    col(\"PLAYER1_TEAM_ABBREVIATION\").alias(\"HOME_TEAM\"),\n",
        "    col(\"PLAYER2_TEAM_ABBREVIATION\").alias(\"VISITOR_TEAM\")\n",
        ").filter((col(\"HOME_TEAM\").isNotNull()) & (col(\"VISITOR_TEAM\").isNotNull())).dropDuplicates([\"GAME_ID\"])\n"
      ],
      "metadata": {
        "id": "VZgZjhBrq5mu"
      },
      "execution_count": null,
      "outputs": []
    },
    {
      "cell_type": "markdown",
      "source": [
        "Get Q1 Final Scores clearly mapped to Home/Visitor teams\n"
      ],
      "metadata": {
        "id": "RPq93PoY6knb"
      }
    },
    {
      "cell_type": "code",
      "source": [
        "from pyspark.sql.functions import expr\n",
        "\n",
        "q1_final_scores = team_scores_q1.join(home_visitor_teams, \"GAME_ID\")\n",
        "\n",
        "final_scores_q1 = q1_final_scores.select(\n",
        "    \"GAME_ID\",\n",
        "    \"HOME_TEAM\",\n",
        "    \"VISITOR_TEAM\",\n",
        "    expr(\"IF(PLAYER1_TEAM_ABBREVIATION = HOME_TEAM, HOME_SCORE_Q1, VISITOR_SCORE_Q1)\").alias(\"HOME_TEAM_Q1_SCORE\"),\n",
        "    expr(\"IF(PLAYER1_TEAM_ABBREVIATION = VISITOR_TEAM, HOME_SCORE_Q1, VISITOR_SCORE_Q1)\").alias(\"VISITOR_TEAM_Q1_SCORE\")\n",
        ").groupBy(\"GAME_ID\", \"HOME_TEAM\", \"VISITOR_TEAM\") \\\n",
        " .agg(spark_max(\"HOME_TEAM_Q1_SCORE\").alias(\"HOME_TEAM_Q1_SCORE\"),\n",
        "      spark_max(\"VISITOR_TEAM_Q1_SCORE\").alias(\"VISITOR_TEAM_Q1_SCORE\"))"
      ],
      "metadata": {
        "id": "oMGGlTRGq5jo"
      },
      "execution_count": null,
      "outputs": []
    },
    {
      "cell_type": "markdown",
      "source": [
        "Determine the Winner of Each Match\n",
        "We need the final match winner based on max period's final score (PERIOD 4 or last):\n"
      ],
      "metadata": {
        "id": "F2w56tPk6lJe"
      }
    },
    {
      "cell_type": "code",
      "source": [
        "from pyspark.sql.functions import col, max as spark_max, first, when\n",
        "\n",
        "# Final period of each game\n",
        "final_period_scores = df_prepared.groupBy(\"GAME_ID\").agg(\n",
        "    spark_max(\"PERIOD\").alias(\"MAX_PERIOD\")\n",
        ")\n",
        "\n",
        "# Join with alias to avoid ambiguous columns\n",
        "final_scores = final_period_scores.alias(\"fps\") \\\n",
        "    .join(df_prepared.alias(\"dfp\"),\n",
        "          (col(\"fps.GAME_ID\") == col(\"dfp.GAME_ID\")) & (col(\"fps.MAX_PERIOD\") == col(\"dfp.PERIOD\"))) \\\n",
        "    .groupBy(\"fps.GAME_ID\").agg(\n",
        "        spark_max(\"dfp.HOME_SCORE\").alias(\"HOME_FINAL_SCORE\"),\n",
        "        spark_max(\"dfp.VISITOR_SCORE\").alias(\"VISITOR_FINAL_SCORE\"),\n",
        "        first(\"dfp.PLAYER1_TEAM_ABBREVIATION\").alias(\"HOME_TEAM\"),\n",
        "        first(\"dfp.PLAYER2_TEAM_ABBREVIATION\").alias(\"VISITOR_TEAM\")\n",
        "    )\n",
        "\n",
        "# Determine winner\n",
        "final_scores = final_scores.withColumn(\n",
        "    \"WINNER\",\n",
        "    when(col(\"HOME_FINAL_SCORE\") > col(\"VISITOR_FINAL_SCORE\"), col(\"HOME_TEAM\"))\n",
        "    .otherwise(col(\"VISITOR_TEAM\"))\n",
        ").select(\"GAME_ID\", \"WINNER\")\n",
        "\n",
        "# Show final_scores for verification\n",
        "final_scores.show(5, truncate=False)\n"
      ],
      "metadata": {
        "colab": {
          "base_uri": "https://localhost:8080/"
        },
        "id": "21J0fUWfq5ep",
        "outputId": "a24d5b3b-cfe8-46bf-ca3b-cf63d088ae3d"
      },
      "execution_count": null,
      "outputs": [
        {
          "output_type": "stream",
          "name": "stdout",
          "text": [
            "+--------+------+\n",
            "|GAME_ID |WINNER|\n",
            "+--------+------+\n",
            "|20000006|null  |\n",
            "|20000009|null  |\n",
            "|20000014|null  |\n",
            "|20000021|null  |\n",
            "|20000025|null  |\n",
            "+--------+------+\n",
            "only showing top 5 rows\n",
            "\n"
          ]
        }
      ]
    },
    {
      "cell_type": "markdown",
      "source": [
        "Join Q1 scores with Winner data to get the final Dataset clearly\n"
      ],
      "metadata": {
        "id": "26ElexHJ60Fu"
      }
    },
    {
      "cell_type": "code",
      "source": [
        "final_dataset = final_scores_q1.join(final_scores, \"GAME_ID\")"
      ],
      "metadata": {
        "id": "juLDt8xE60cc"
      },
      "execution_count": null,
      "outputs": []
    },
    {
      "cell_type": "markdown",
      "source": [],
      "metadata": {
        "id": "BCvml17s61LN"
      }
    },
    {
      "cell_type": "code",
      "source": [
        "final_dataset = final_dataset.select(\n",
        "    col(\"GAME_ID\"),\n",
        "    col(\"HOME_TEAM\").alias(\"TEAM_A\"),\n",
        "    col(\"VISITOR_TEAM\").alias(\"TEAM_B\"),\n",
        "    col(\"HOME_TEAM_Q1_SCORE\").alias(\"TEAM_A_Q1_SCORE\"),\n",
        "    col(\"VISITOR_TEAM_Q1_SCORE\").alias(\"TEAM_B_Q1_SCORE\"),\n",
        "    \"WINNER\"\n",
        ")\n",
        "\n",
        "# Add target (Y) points scored by Team_A if they won, else null (we predict only wins)\n",
        "final_dataset = final_dataset.withColumn(\n",
        "    \"TARGET_Q1_POINTS\",\n",
        "    when(col(\"WINNER\") == col(\"TEAM_A\"), col(\"TEAM_A_Q1_SCORE\")).otherwise(None)\n",
        ").filter(col(\"TARGET_Q1_POINTS\").isNotNull())\n"
      ],
      "metadata": {
        "colab": {
          "base_uri": "https://localhost:8080/"
        },
        "id": "CIqaQFi_61ga",
        "outputId": "0c5beb37-c07a-4811-aa45-e5524a8fc5c7"
      },
      "execution_count": null,
      "outputs": [
        {
          "output_type": "stream",
          "name": "stdout",
          "text": [
            "+--------+------+------+---------------+---------------+------+----------------+\n",
            "|GAME_ID |TEAM_A|TEAM_B|TEAM_A_Q1_SCORE|TEAM_B_Q1_SCORE|WINNER|TARGET_Q1_POINTS|\n",
            "+--------+------+------+---------------+---------------+------+----------------+\n",
            "|20000079|BOS   |BOS   |26             |26             |BOS   |26              |\n",
            "|20000435|PHI   |PHI   |35             |35             |PHI   |35              |\n",
            "|20000456|UTA   |UTA   |11             |11             |UTA   |11              |\n",
            "|20000541|MIN   |MIN   |28             |28             |MIN   |28              |\n",
            "|20000579|TOR   |TOR   |38             |38             |TOR   |38              |\n",
            "+--------+------+------+---------------+---------------+------+----------------+\n",
            "only showing top 5 rows\n",
            "\n"
          ]
        }
      ]
    },
    {
      "cell_type": "code",
      "source": [
        "# View Final dataset\n",
        "final_dataset.show(14, truncate=False)"
      ],
      "metadata": {
        "id": "v5UGniPY8E2Y",
        "outputId": "a46c57b7-0bac-4cd8-fde4-8349796cc26d",
        "colab": {
          "base_uri": "https://localhost:8080/"
        }
      },
      "execution_count": null,
      "outputs": [
        {
          "output_type": "stream",
          "name": "stdout",
          "text": [
            "+--------+------+------+---------------+---------------+------+----------------+\n",
            "|GAME_ID |TEAM_A|TEAM_B|TEAM_A_Q1_SCORE|TEAM_B_Q1_SCORE|WINNER|TARGET_Q1_POINTS|\n",
            "+--------+------+------+---------------+---------------+------+----------------+\n",
            "|20000079|BOS   |BOS   |26             |26             |BOS   |26              |\n",
            "|20000435|PHI   |PHI   |35             |35             |PHI   |35              |\n",
            "|20000456|UTA   |UTA   |11             |11             |UTA   |11              |\n",
            "|20000541|MIN   |MIN   |28             |28             |MIN   |28              |\n",
            "|20000579|TOR   |TOR   |38             |38             |TOR   |38              |\n",
            "|20000656|DAL   |DAL   |24             |24             |DAL   |24              |\n",
            "|20000719|UTA   |UTA   |28             |28             |UTA   |28              |\n",
            "|20000803|CLE   |CLE   |24             |24             |CLE   |24              |\n",
            "|20000842|DET   |DET   |23             |23             |DET   |23              |\n",
            "|20000866|SAS   |SAS   |26             |26             |SAS   |26              |\n",
            "|20000896|LAL   |LAL   |27             |27             |LAL   |27              |\n",
            "|20001015|NYK   |NYK   |24             |24             |NYK   |24              |\n",
            "|20001142|IND   |IND   |31             |31             |IND   |31              |\n",
            "|20001149|DET   |DET   |29             |29             |DET   |29              |\n",
            "+--------+------+------+---------------+---------------+------+----------------+\n",
            "\n"
          ]
        }
      ]
    },
    {
      "cell_type": "code",
      "source": [
        "final_dataset.describe().show()"
      ],
      "metadata": {
        "colab": {
          "base_uri": "https://localhost:8080/"
        },
        "id": "NSU_HViE7kBY",
        "outputId": "463936f6-865e-4cd9-9154-e385e7938c23"
      },
      "execution_count": null,
      "outputs": [
        {
          "output_type": "stream",
          "name": "stdout",
          "text": [
            "+-------+-----------------+------+------+------------------+------------------+------+------------------+\n",
            "|summary|          GAME_ID|TEAM_A|TEAM_B|   TEAM_A_Q1_SCORE|   TEAM_B_Q1_SCORE|WINNER|  TARGET_Q1_POINTS|\n",
            "+-------+-----------------+------+------+------------------+------------------+------+------------------+\n",
            "|  count|               14|    14|    14|                14|                14|    14|                14|\n",
            "|   mean|      2.0000727E7|  null|  null|26.714285714285715|26.714285714285715|  null|26.714285714285715|\n",
            "| stddev|296.1743249664377|  null|  null| 6.244118111391792| 6.244118111391792|  null| 6.244118111391792|\n",
            "|    min|         20000079|   BOS|   BOS|                11|                11|   BOS|                11|\n",
            "|    max|         20001149|   UTA|   UTA|                38|                38|   UTA|                38|\n",
            "+-------+-----------------+------+------+------------------+------------------+------+------------------+\n",
            "\n"
          ]
        }
      ]
    }
  ]
}