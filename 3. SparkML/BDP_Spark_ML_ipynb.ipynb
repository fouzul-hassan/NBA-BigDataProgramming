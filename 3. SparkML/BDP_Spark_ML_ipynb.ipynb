{
  "nbformat": 4,
  "nbformat_minor": 0,
  "metadata": {
    "colab": {
      "provenance": []
    },
    "kernelspec": {
      "name": "python3",
      "display_name": "Python 3"
    },
    "language_info": {
      "name": "python"
    }
  },
  "cells": [
    {
      "cell_type": "code",
      "execution_count": null,
      "metadata": {
        "id": "gvPgeXx7AuEW"
      },
      "outputs": [],
      "source": [
        "!apt-get install openjdk-8-jdk-headless -qq > /dev/null\n",
        "!wget -q https://archive.apache.org/dist/spark/spark-3.4.1/spark-3.4.1-bin-hadoop3.tgz\n",
        "!tar xf spark-3.4.1-bin-hadoop3.tgz\n",
        "!pip install -q findspark\n"
      ]
    },
    {
      "cell_type": "code",
      "source": [
        "import os\n",
        "os.environ[\"JAVA_HOME\"] = \"/usr/lib/jvm/java-8-openjdk-amd64\"\n",
        "os.environ[\"SPARK_HOME\"] = \"/content/spark-3.4.1-bin-hadoop3\"\n",
        "os.environ[\"HADOOP_HOME\"] = \"/content/spark-3.4.1-bin-hadoop3\" # Add Hadoop home for consistency with Spark\n",
        "os.environ[\"PATH\"] += os.pathsep + os.environ[\"SPARK_HOME\"] + \"/bin\"\n",
        "os.environ[\"PATH\"] += os.pathsep + os.environ[\"HADOOP_HOME\"] + \"/bin\" # Add Hadoop path\n",
        "os.environ[\"PYSPARK_PYTHON\"] = \"/usr/bin/python3\"  # Use Python3 explicitly\n"
      ],
      "metadata": {
        "id": "1LsUXDqyDWH3"
      },
      "execution_count": null,
      "outputs": []
    },
    {
      "cell_type": "code",
      "source": [
        "# Install PySpark\n",
        "!pip install -q findspark"
      ],
      "metadata": {
        "id": "o-3Y3NiQBeAw"
      },
      "execution_count": null,
      "outputs": []
    },
    {
      "cell_type": "code",
      "source": [
        "# Initialize Spark\n",
        "import findspark\n",
        "import os\n",
        "findspark.init()\n",
        "from pyspark.sql import SparkSession\n",
        "\n",
        "spark = SparkSession.builder \\\n",
        "    .appName(\"NBA-Analysis2\") \\\n",
        "    .master(\"local[*]\") \\\n",
        "    .config(\"spark.driver.extraClassPath\", os.environ[\"HADOOP_HOME\"] + \"/etc/hadoop/*\") \\\n",
        "    .getOrCreate()\n",
        "\n",
        "spark"
      ],
      "metadata": {
        "colab": {
          "base_uri": "https://localhost:8080/",
          "height": 219
        },
        "id": "kNJYVxHPqfh2",
        "outputId": "d12e34d8-5a8a-462a-ec0b-6ee3e8d7529d"
      },
      "execution_count": null,
      "outputs": [
        {
          "output_type": "execute_result",
          "data": {
            "text/plain": [
              "<pyspark.sql.session.SparkSession at 0x7b8ea41c1d90>"
            ],
            "text/html": [
              "\n",
              "            <div>\n",
              "                <p><b>SparkSession - in-memory</b></p>\n",
              "                \n",
              "        <div>\n",
              "            <p><b>SparkContext</b></p>\n",
              "\n",
              "            <p><a href=\"http://dbbf94f30f17:4040\">Spark UI</a></p>\n",
              "\n",
              "            <dl>\n",
              "              <dt>Version</dt>\n",
              "                <dd><code>v3.4.1</code></dd>\n",
              "              <dt>Master</dt>\n",
              "                <dd><code>local[*]</code></dd>\n",
              "              <dt>AppName</dt>\n",
              "                <dd><code>NBA-Analysis2</code></dd>\n",
              "            </dl>\n",
              "        </div>\n",
              "        \n",
              "            </div>\n",
              "        "
            ]
          },
          "metadata": {},
          "execution_count": 4
        }
      ]
    },
    {
      "cell_type": "code",
      "source": [
        "df = spark.read.csv(\"dataset2.csv\", header=True, inferSchema=True)\n",
        "print(df)"
      ],
      "metadata": {
        "colab": {
          "base_uri": "https://localhost:8080/"
        },
        "id": "NjPFk_7PCBhQ",
        "outputId": "9bae285f-fbb1-4b53-a9ac-1feb41b7aff4"
      },
      "execution_count": null,
      "outputs": [
        {
          "output_type": "stream",
          "name": "stdout",
          "text": [
            "DataFrame[EVENTID: int, EVENTNUM: int, GAME_ID: int, HOMEDESCRIPTION: string, PCTIMESTRING: timestamp, PERIOD: int, PLAYER1_ID: int, PLAYER1_NAME: string, PLAYER1_TEAM_ABBREVIATION: string, PLAYER1_TEAM_CITY: string, PLAYER1_TEAM_ID: int, PLAYER1_TEAM_NICKNAME: string, PLAYER2_ID: int, PLAYER2_NAME: string, PLAYER2_TEAM_ABBREVIATION: string, PLAYER2_TEAM_CITY: string, PLAYER2_TEAM_ID: int, PLAYER2_TEAM_NICKNAME: string, PLAYER3_ID: int, PLAYER3_NAME: string, PLAYER3_TEAM_ABBREVIATION: string, PLAYER3_TEAM_CITY: string, PLAYER3_TEAM_ID: int, PLAYER3_TEAM_NICKNAME: string, SCORE: string, SCOREMARGIN: string, VISITORDESCRIPTION: string]\n"
          ]
        }
      ]
    },
    {
      "cell_type": "code",
      "source": [
        "df"
      ],
      "metadata": {
        "colab": {
          "base_uri": "https://localhost:8080/"
        },
        "id": "owPWCZ4tExtt",
        "outputId": "f35abe42-bc2f-4c7b-8777-eb289ee4b76c"
      },
      "execution_count": null,
      "outputs": [
        {
          "output_type": "execute_result",
          "data": {
            "text/plain": [
              "DataFrame[EVENTID: int, EVENTNUM: int, GAME_ID: int, HOMEDESCRIPTION: string, PCTIMESTRING: timestamp, PERIOD: int, PLAYER1_ID: int, PLAYER1_NAME: string, PLAYER1_TEAM_ABBREVIATION: string, PLAYER1_TEAM_CITY: string, PLAYER1_TEAM_ID: int, PLAYER1_TEAM_NICKNAME: string, PLAYER2_ID: int, PLAYER2_NAME: string, PLAYER2_TEAM_ABBREVIATION: string, PLAYER2_TEAM_CITY: string, PLAYER2_TEAM_ID: int, PLAYER2_TEAM_NICKNAME: string, PLAYER3_ID: int, PLAYER3_NAME: string, PLAYER3_TEAM_ABBREVIATION: string, PLAYER3_TEAM_CITY: string, PLAYER3_TEAM_ID: int, PLAYER3_TEAM_NICKNAME: string, SCORE: string, SCOREMARGIN: string, VISITORDESCRIPTION: string]"
            ]
          },
          "metadata": {},
          "execution_count": 6
        }
      ]
    },
    {
      "cell_type": "code",
      "source": [
        "df.printSchema()\n",
        "df.columns"
      ],
      "metadata": {
        "colab": {
          "base_uri": "https://localhost:8080/"
        },
        "id": "CU0sNYhoBh9h",
        "outputId": "6edd8006-a0a2-4589-c207-929c0afebb2b"
      },
      "execution_count": null,
      "outputs": [
        {
          "output_type": "stream",
          "name": "stdout",
          "text": [
            "root\n",
            " |-- EVENTID: integer (nullable = true)\n",
            " |-- EVENTNUM: integer (nullable = true)\n",
            " |-- GAME_ID: integer (nullable = true)\n",
            " |-- HOMEDESCRIPTION: string (nullable = true)\n",
            " |-- PCTIMESTRING: timestamp (nullable = true)\n",
            " |-- PERIOD: integer (nullable = true)\n",
            " |-- PLAYER1_ID: integer (nullable = true)\n",
            " |-- PLAYER1_NAME: string (nullable = true)\n",
            " |-- PLAYER1_TEAM_ABBREVIATION: string (nullable = true)\n",
            " |-- PLAYER1_TEAM_CITY: string (nullable = true)\n",
            " |-- PLAYER1_TEAM_ID: integer (nullable = true)\n",
            " |-- PLAYER1_TEAM_NICKNAME: string (nullable = true)\n",
            " |-- PLAYER2_ID: integer (nullable = true)\n",
            " |-- PLAYER2_NAME: string (nullable = true)\n",
            " |-- PLAYER2_TEAM_ABBREVIATION: string (nullable = true)\n",
            " |-- PLAYER2_TEAM_CITY: string (nullable = true)\n",
            " |-- PLAYER2_TEAM_ID: integer (nullable = true)\n",
            " |-- PLAYER2_TEAM_NICKNAME: string (nullable = true)\n",
            " |-- PLAYER3_ID: integer (nullable = true)\n",
            " |-- PLAYER3_NAME: string (nullable = true)\n",
            " |-- PLAYER3_TEAM_ABBREVIATION: string (nullable = true)\n",
            " |-- PLAYER3_TEAM_CITY: string (nullable = true)\n",
            " |-- PLAYER3_TEAM_ID: integer (nullable = true)\n",
            " |-- PLAYER3_TEAM_NICKNAME: string (nullable = true)\n",
            " |-- SCORE: string (nullable = true)\n",
            " |-- SCOREMARGIN: string (nullable = true)\n",
            " |-- VISITORDESCRIPTION: string (nullable = true)\n",
            "\n"
          ]
        },
        {
          "output_type": "execute_result",
          "data": {
            "text/plain": [
              "['EVENTID',\n",
              " 'EVENTNUM',\n",
              " 'GAME_ID',\n",
              " 'HOMEDESCRIPTION',\n",
              " 'PCTIMESTRING',\n",
              " 'PERIOD',\n",
              " 'PLAYER1_ID',\n",
              " 'PLAYER1_NAME',\n",
              " 'PLAYER1_TEAM_ABBREVIATION',\n",
              " 'PLAYER1_TEAM_CITY',\n",
              " 'PLAYER1_TEAM_ID',\n",
              " 'PLAYER1_TEAM_NICKNAME',\n",
              " 'PLAYER2_ID',\n",
              " 'PLAYER2_NAME',\n",
              " 'PLAYER2_TEAM_ABBREVIATION',\n",
              " 'PLAYER2_TEAM_CITY',\n",
              " 'PLAYER2_TEAM_ID',\n",
              " 'PLAYER2_TEAM_NICKNAME',\n",
              " 'PLAYER3_ID',\n",
              " 'PLAYER3_NAME',\n",
              " 'PLAYER3_TEAM_ABBREVIATION',\n",
              " 'PLAYER3_TEAM_CITY',\n",
              " 'PLAYER3_TEAM_ID',\n",
              " 'PLAYER3_TEAM_NICKNAME',\n",
              " 'SCORE',\n",
              " 'SCOREMARGIN',\n",
              " 'VISITORDESCRIPTION']"
            ]
          },
          "metadata": {},
          "execution_count": 7
        }
      ]
    },
    {
      "cell_type": "code",
      "source": [
        "df.show(5)"
      ],
      "metadata": {
        "colab": {
          "base_uri": "https://localhost:8080/"
        },
        "id": "_K7KeNU6JQIi",
        "outputId": "f992591c-85dc-4c87-c723-5a8e55c678a0"
      },
      "execution_count": null,
      "outputs": [
        {
          "output_type": "stream",
          "name": "stdout",
          "text": [
            "+-------+--------+--------+--------------------+-------------------+------+----------+-------------+-------------------------+-----------------+---------------+---------------------+----------+---------------+-------------------------+-----------------+---------------+---------------------+----------+------------+-------------------------+-----------------+---------------+---------------------+------+-----------+--------------------+\n",
            "|EVENTID|EVENTNUM| GAME_ID|     HOMEDESCRIPTION|       PCTIMESTRING|PERIOD|PLAYER1_ID| PLAYER1_NAME|PLAYER1_TEAM_ABBREVIATION|PLAYER1_TEAM_CITY|PLAYER1_TEAM_ID|PLAYER1_TEAM_NICKNAME|PLAYER2_ID|   PLAYER2_NAME|PLAYER2_TEAM_ABBREVIATION|PLAYER2_TEAM_CITY|PLAYER2_TEAM_ID|PLAYER2_TEAM_NICKNAME|PLAYER3_ID|PLAYER3_NAME|PLAYER3_TEAM_ABBREVIATION|PLAYER3_TEAM_CITY|PLAYER3_TEAM_ID|PLAYER3_TEAM_NICKNAME| SCORE|SCOREMARGIN|  VISITORDESCRIPTION|\n",
            "+-------+--------+--------+--------------------+-------------------+------+----------+-------------+-------------------------+-----------------+---------------+---------------------+----------+---------------+-------------------------+-----------------+---------------+---------------------+----------+------------+-------------------------+-----------------+---------------+---------------------+------+-----------+--------------------+\n",
            "|      0|       0|20001116|                null|2025-04-17 12:00:00|     1|         0|         null|                     null|             null|           null|                 null|         0|           null|                     null|             null|           null|                 null|         0|        null|                     null|             null|           null|                 null|  null|       null|                null|\n",
            "|      1|       1|20001116|Jump Ball Grant v...|2025-04-17 12:00:00|     1|       258|  Brian Grant|                      MIA|            Miami|     1610612748|                 Heat|        87|Dikembe Mutombo|                      PHI|     Philadelphia|     1610612755|                76ers|       238| Tyrone Hill|                      PHI|     Philadelphia|     1610612755|                76ers|  null|       null|                null|\n",
            "|      2|       2|20001116|                null|2025-04-17 11:45:00|     1|       947|Allen Iverson|                      PHI|     Philadelphia|     1610612755|                76ers|         0|           null|                     null|             null|           null|                 null|         0|        null|                     null|             null|           null|                 null| 2 - 0|         -2|Iverson 21' Jump ...|\n",
            "|      3|       3|20001116|                null|2025-04-17 11:28:00|     1|       238|  Tyrone Hill|                      PHI|     Philadelphia|     1610612755|                76ers|         0|           null|                     null|             null|           null|                 null|         0|        null|                     null|             null|           null|                 null|  null|       null| Hill P.FOUL (P1.T1)|\n",
            "|      4|       4|20001116|Mason 17' Jump Sh...|2025-04-17 11:19:00|     1|       193|Anthony Mason|                      MIA|            Miami|     1610612748|                 Heat|         0|           null|                     null|             null|           null|                 null|         0|        null|                     null|             null|           null|                 null|02-Feb|        TIE|                null|\n",
            "+-------+--------+--------+--------------------+-------------------+------+----------+-------------+-------------------------+-----------------+---------------+---------------------+----------+---------------+-------------------------+-----------------+---------------+---------------------+----------+------------+-------------------------+-----------------+---------------+---------------------+------+-----------+--------------------+\n",
            "only showing top 5 rows\n",
            "\n"
          ]
        }
      ]
    },
    {
      "cell_type": "code",
      "source": [
        "from pyspark.sql.functions import udf\n",
        "from pyspark.sql.types import StringType\n",
        "import re\n",
        "\n",
        "# Define month-to-number mapping\n",
        "month_map = {\n",
        "    'Jan': '1', 'Feb': '2', 'Mar': '3', 'Apr': '4',\n",
        "    'May': '5', 'Jun': '6', 'Jul': '7', 'Aug': '8',\n",
        "    'Sep': '9', 'Oct': '10', 'Nov': '11', 'Dec': '12'\n",
        "}\n",
        "\n",
        "def clean_score(score):\n",
        "    if not score or score.strip() == '':\n",
        "        return None\n",
        "\n",
        "    score = score.strip()\n",
        "\n",
        "    # Already valid score format\n",
        "    if re.match(r\"^\\d+\\s*-\\s*\\d+$\", score):\n",
        "        return score\n",
        "\n",
        "    # Handle Month-Day format (e.g., Apr-6 → 6 - 4)\n",
        "    for month_abbr, num in month_map.items():\n",
        "        if month_abbr in score:\n",
        "            parts = score.split('-')\n",
        "            if len(parts) == 2:\n",
        "                if month_abbr in parts[0]:\n",
        "                    return f\"{parts[1].strip()} - {num}\"\n",
        "                elif month_abbr in parts[1]:\n",
        "                    return f\"{parts[0].strip()} - {num}\"\n",
        "\n",
        "    # Try to extract digits in a generic fallback\n",
        "    digits = re.findall(r'\\d+', score)\n",
        "    if len(digits) == 2:\n",
        "        return f\"{digits[0]} - {digits[1]}\"\n",
        "\n",
        "    return None\n",
        "\n",
        "# Register UDF\n",
        "clean_score_udf = udf(clean_score, StringType())\n",
        "\n",
        "# Apply the cleaning function\n",
        "df_cleaned = df.withColumn(\"CLEANED_SCORE\", clean_score_udf(df[\"SCORE\"]))\n",
        "df_cleaned.select(\"SCORE\", \"CLEANED_SCORE\").distinct().show(30, truncate=False)\n"
      ],
      "metadata": {
        "colab": {
          "base_uri": "https://localhost:8080/"
        },
        "id": "jrLTO_x_Bh6l",
        "outputId": "3b1ccf87-89e1-4b44-aa04-2343e269b5d3"
      },
      "execution_count": null,
      "outputs": [
        {
          "output_type": "stream",
          "name": "stdout",
          "text": [
            "+--------+-------------+\n",
            "|SCORE   |CLEANED_SCORE|\n",
            "+--------+-------------+\n",
            "|63 - 69 |63 - 69      |\n",
            "|83 - 106|83 - 106     |\n",
            "|26 - 29 |26 - 29      |\n",
            "|38 - 39 |38 - 39      |\n",
            "|77 - 90 |77 - 90      |\n",
            "|40 - 42 |40 - 42      |\n",
            "|96 - 90 |96 - 90      |\n",
            "|58 - 50 |58 - 50      |\n",
            "|54 - 74 |54 - 74      |\n",
            "|76 - 83 |76 - 83      |\n",
            "|68 - 103|68 - 103     |\n",
            "|103 - 83|103 - 83     |\n",
            "|71 - 71 |71 - 71      |\n",
            "|49 - 39 |49 - 39      |\n",
            "|47 - 68 |47 - 68      |\n",
            "|70 - 108|70 - 108     |\n",
            "|24 - 44 |24 - 44      |\n",
            "|25 - 31 |25 - 31      |\n",
            "|74 - 112|74 - 112     |\n",
            "|86 - 97 |86 - 97      |\n",
            "|67 - 88 |67 - 88      |\n",
            "|71 - 67 |71 - 67      |\n",
            "|Dec-19  |19 - 12      |\n",
            "|52 - 59 |52 - 59      |\n",
            "|22 - 23 |22 - 23      |\n",
            "|40 - 45 |40 - 45      |\n",
            "|30 - 39 |30 - 39      |\n",
            "|113 - 96|113 - 96     |\n",
            "|27 - 18 |27 - 18      |\n",
            "|15-Apr  |15 - 4       |\n",
            "+--------+-------------+\n",
            "only showing top 30 rows\n",
            "\n"
          ]
        }
      ]
    },
    {
      "cell_type": "code",
      "source": [
        "df.show(5)"
      ],
      "metadata": {
        "colab": {
          "base_uri": "https://localhost:8080/"
        },
        "id": "CGglC2SuBh3h",
        "outputId": "00ab20c9-2ed6-44b3-f0e8-8ffa4308b5e3"
      },
      "execution_count": null,
      "outputs": [
        {
          "output_type": "stream",
          "name": "stdout",
          "text": [
            "+-------+--------+--------+--------------------+-------------------+------+----------+-------------+-------------------------+-----------------+---------------+---------------------+----------+---------------+-------------------------+-----------------+---------------+---------------------+----------+------------+-------------------------+-----------------+---------------+---------------------+------+-----------+--------------------+\n",
            "|EVENTID|EVENTNUM| GAME_ID|     HOMEDESCRIPTION|       PCTIMESTRING|PERIOD|PLAYER1_ID| PLAYER1_NAME|PLAYER1_TEAM_ABBREVIATION|PLAYER1_TEAM_CITY|PLAYER1_TEAM_ID|PLAYER1_TEAM_NICKNAME|PLAYER2_ID|   PLAYER2_NAME|PLAYER2_TEAM_ABBREVIATION|PLAYER2_TEAM_CITY|PLAYER2_TEAM_ID|PLAYER2_TEAM_NICKNAME|PLAYER3_ID|PLAYER3_NAME|PLAYER3_TEAM_ABBREVIATION|PLAYER3_TEAM_CITY|PLAYER3_TEAM_ID|PLAYER3_TEAM_NICKNAME| SCORE|SCOREMARGIN|  VISITORDESCRIPTION|\n",
            "+-------+--------+--------+--------------------+-------------------+------+----------+-------------+-------------------------+-----------------+---------------+---------------------+----------+---------------+-------------------------+-----------------+---------------+---------------------+----------+------------+-------------------------+-----------------+---------------+---------------------+------+-----------+--------------------+\n",
            "|      0|       0|20001116|                null|2025-04-17 12:00:00|     1|         0|         null|                     null|             null|           null|                 null|         0|           null|                     null|             null|           null|                 null|         0|        null|                     null|             null|           null|                 null|  null|       null|                null|\n",
            "|      1|       1|20001116|Jump Ball Grant v...|2025-04-17 12:00:00|     1|       258|  Brian Grant|                      MIA|            Miami|     1610612748|                 Heat|        87|Dikembe Mutombo|                      PHI|     Philadelphia|     1610612755|                76ers|       238| Tyrone Hill|                      PHI|     Philadelphia|     1610612755|                76ers|  null|       null|                null|\n",
            "|      2|       2|20001116|                null|2025-04-17 11:45:00|     1|       947|Allen Iverson|                      PHI|     Philadelphia|     1610612755|                76ers|         0|           null|                     null|             null|           null|                 null|         0|        null|                     null|             null|           null|                 null| 2 - 0|         -2|Iverson 21' Jump ...|\n",
            "|      3|       3|20001116|                null|2025-04-17 11:28:00|     1|       238|  Tyrone Hill|                      PHI|     Philadelphia|     1610612755|                76ers|         0|           null|                     null|             null|           null|                 null|         0|        null|                     null|             null|           null|                 null|  null|       null| Hill P.FOUL (P1.T1)|\n",
            "|      4|       4|20001116|Mason 17' Jump Sh...|2025-04-17 11:19:00|     1|       193|Anthony Mason|                      MIA|            Miami|     1610612748|                 Heat|         0|           null|                     null|             null|           null|                 null|         0|        null|                     null|             null|           null|                 null|02-Feb|        TIE|                null|\n",
            "+-------+--------+--------+--------------------+-------------------+------+----------+-------------+-------------------------+-----------------+---------------+---------------------+----------+---------------+-------------------------+-----------------+---------------+---------------------+----------+------------+-------------------------+-----------------+---------------+---------------------+------+-----------+--------------------+\n",
            "only showing top 5 rows\n",
            "\n"
          ]
        }
      ]
    },
    {
      "cell_type": "code",
      "source": [
        "df_cleaned.show(5)"
      ],
      "metadata": {
        "colab": {
          "base_uri": "https://localhost:8080/"
        },
        "id": "j8p4ZI2WBh02",
        "outputId": "e062077a-4ba8-4ea2-dffc-23d295c8c225"
      },
      "execution_count": null,
      "outputs": [
        {
          "output_type": "stream",
          "name": "stdout",
          "text": [
            "+-------+--------+--------+--------------------+-------------------+------+----------+-------------+-------------------------+-----------------+---------------+---------------------+----------+---------------+-------------------------+-----------------+---------------+---------------------+----------+------------+-------------------------+-----------------+---------------+---------------------+------+-----------+--------------------+-------------+\n",
            "|EVENTID|EVENTNUM| GAME_ID|     HOMEDESCRIPTION|       PCTIMESTRING|PERIOD|PLAYER1_ID| PLAYER1_NAME|PLAYER1_TEAM_ABBREVIATION|PLAYER1_TEAM_CITY|PLAYER1_TEAM_ID|PLAYER1_TEAM_NICKNAME|PLAYER2_ID|   PLAYER2_NAME|PLAYER2_TEAM_ABBREVIATION|PLAYER2_TEAM_CITY|PLAYER2_TEAM_ID|PLAYER2_TEAM_NICKNAME|PLAYER3_ID|PLAYER3_NAME|PLAYER3_TEAM_ABBREVIATION|PLAYER3_TEAM_CITY|PLAYER3_TEAM_ID|PLAYER3_TEAM_NICKNAME| SCORE|SCOREMARGIN|  VISITORDESCRIPTION|CLEANED_SCORE|\n",
            "+-------+--------+--------+--------------------+-------------------+------+----------+-------------+-------------------------+-----------------+---------------+---------------------+----------+---------------+-------------------------+-----------------+---------------+---------------------+----------+------------+-------------------------+-----------------+---------------+---------------------+------+-----------+--------------------+-------------+\n",
            "|      0|       0|20001116|                null|2025-04-17 12:00:00|     1|         0|         null|                     null|             null|           null|                 null|         0|           null|                     null|             null|           null|                 null|         0|        null|                     null|             null|           null|                 null|  null|       null|                null|         null|\n",
            "|      1|       1|20001116|Jump Ball Grant v...|2025-04-17 12:00:00|     1|       258|  Brian Grant|                      MIA|            Miami|     1610612748|                 Heat|        87|Dikembe Mutombo|                      PHI|     Philadelphia|     1610612755|                76ers|       238| Tyrone Hill|                      PHI|     Philadelphia|     1610612755|                76ers|  null|       null|                null|         null|\n",
            "|      2|       2|20001116|                null|2025-04-17 11:45:00|     1|       947|Allen Iverson|                      PHI|     Philadelphia|     1610612755|                76ers|         0|           null|                     null|             null|           null|                 null|         0|        null|                     null|             null|           null|                 null| 2 - 0|         -2|Iverson 21' Jump ...|        2 - 0|\n",
            "|      3|       3|20001116|                null|2025-04-17 11:28:00|     1|       238|  Tyrone Hill|                      PHI|     Philadelphia|     1610612755|                76ers|         0|           null|                     null|             null|           null|                 null|         0|        null|                     null|             null|           null|                 null|  null|       null| Hill P.FOUL (P1.T1)|         null|\n",
            "|      4|       4|20001116|Mason 17' Jump Sh...|2025-04-17 11:19:00|     1|       193|Anthony Mason|                      MIA|            Miami|     1610612748|                 Heat|         0|           null|                     null|             null|           null|                 null|         0|        null|                     null|             null|           null|                 null|02-Feb|        TIE|                null|       02 - 2|\n",
            "+-------+--------+--------+--------------------+-------------------+------+----------+-------------+-------------------------+-----------------+---------------+---------------------+----------+---------------+-------------------------+-----------------+---------------+---------------------+----------+------------+-------------------------+-----------------+---------------+---------------------+------+-----------+--------------------+-------------+\n",
            "only showing top 5 rows\n",
            "\n"
          ]
        }
      ]
    },
    {
      "cell_type": "code",
      "source": [
        "from pyspark.sql.functions import col\n",
        "\n",
        "df_cleaned = df_cleaned.withColumn(\"SCOREMARGIN_INT\", col(\"SCOREMARGIN\").cast(\"int\"))"
      ],
      "metadata": {
        "id": "_MRZvnZmP4Q0"
      },
      "execution_count": null,
      "outputs": []
    },
    {
      "cell_type": "code",
      "source": [
        "from pyspark.sql.functions import split, col\n",
        "\n",
        "# Split CLEANED_SCORE into two new columns: HOME_SCORE and VISITOR_SCORE\n",
        "df_cleaned = df_cleaned.withColumn(\"HOME_SCORE\", split(col(\"CLEANED_SCORE\"), \" - \").getItem(0).cast(\"int\")) \\\n",
        "                           .withColumn(\"VISITOR_SCORE\", split(col(\"CLEANED_SCORE\"), \" - \").getItem(1).cast(\"int\"))\n"
      ],
      "metadata": {
        "id": "_pBbAYkxBhyJ"
      },
      "execution_count": null,
      "outputs": []
    },
    {
      "cell_type": "code",
      "source": [
        "df_cleaned.show(5)"
      ],
      "metadata": {
        "colab": {
          "base_uri": "https://localhost:8080/"
        },
        "id": "Jb7WMalZPq18",
        "outputId": "dd85ca52-3d25-4326-b18b-aaa8fe726b7a"
      },
      "execution_count": null,
      "outputs": [
        {
          "output_type": "stream",
          "name": "stdout",
          "text": [
            "+-------+--------+--------+--------------------+-------------------+------+----------+-------------+-------------------------+-----------------+---------------+---------------------+----------+---------------+-------------------------+-----------------+---------------+---------------------+----------+------------+-------------------------+-----------------+---------------+---------------------+------+-----------+--------------------+-------------+---------------+----------+-------------+\n",
            "|EVENTID|EVENTNUM| GAME_ID|     HOMEDESCRIPTION|       PCTIMESTRING|PERIOD|PLAYER1_ID| PLAYER1_NAME|PLAYER1_TEAM_ABBREVIATION|PLAYER1_TEAM_CITY|PLAYER1_TEAM_ID|PLAYER1_TEAM_NICKNAME|PLAYER2_ID|   PLAYER2_NAME|PLAYER2_TEAM_ABBREVIATION|PLAYER2_TEAM_CITY|PLAYER2_TEAM_ID|PLAYER2_TEAM_NICKNAME|PLAYER3_ID|PLAYER3_NAME|PLAYER3_TEAM_ABBREVIATION|PLAYER3_TEAM_CITY|PLAYER3_TEAM_ID|PLAYER3_TEAM_NICKNAME| SCORE|SCOREMARGIN|  VISITORDESCRIPTION|CLEANED_SCORE|SCOREMARGIN_INT|HOME_SCORE|VISITOR_SCORE|\n",
            "+-------+--------+--------+--------------------+-------------------+------+----------+-------------+-------------------------+-----------------+---------------+---------------------+----------+---------------+-------------------------+-----------------+---------------+---------------------+----------+------------+-------------------------+-----------------+---------------+---------------------+------+-----------+--------------------+-------------+---------------+----------+-------------+\n",
            "|      0|       0|20001116|                null|2025-04-17 12:00:00|     1|         0|         null|                     null|             null|           null|                 null|         0|           null|                     null|             null|           null|                 null|         0|        null|                     null|             null|           null|                 null|  null|       null|                null|         null|           null|      null|         null|\n",
            "|      1|       1|20001116|Jump Ball Grant v...|2025-04-17 12:00:00|     1|       258|  Brian Grant|                      MIA|            Miami|     1610612748|                 Heat|        87|Dikembe Mutombo|                      PHI|     Philadelphia|     1610612755|                76ers|       238| Tyrone Hill|                      PHI|     Philadelphia|     1610612755|                76ers|  null|       null|                null|         null|           null|      null|         null|\n",
            "|      2|       2|20001116|                null|2025-04-17 11:45:00|     1|       947|Allen Iverson|                      PHI|     Philadelphia|     1610612755|                76ers|         0|           null|                     null|             null|           null|                 null|         0|        null|                     null|             null|           null|                 null| 2 - 0|         -2|Iverson 21' Jump ...|        2 - 0|             -2|         2|            0|\n",
            "|      3|       3|20001116|                null|2025-04-17 11:28:00|     1|       238|  Tyrone Hill|                      PHI|     Philadelphia|     1610612755|                76ers|         0|           null|                     null|             null|           null|                 null|         0|        null|                     null|             null|           null|                 null|  null|       null| Hill P.FOUL (P1.T1)|         null|           null|      null|         null|\n",
            "|      4|       4|20001116|Mason 17' Jump Sh...|2025-04-17 11:19:00|     1|       193|Anthony Mason|                      MIA|            Miami|     1610612748|                 Heat|         0|           null|                     null|             null|           null|                 null|         0|        null|                     null|             null|           null|                 null|02-Feb|        TIE|                null|       02 - 2|           null|         2|            2|\n",
            "+-------+--------+--------+--------------------+-------------------+------+----------+-------------+-------------------------+-----------------+---------------+---------------------+----------+---------------+-------------------------+-----------------+---------------+---------------------+----------+------------+-------------------------+-----------------+---------------+---------------------+------+-----------+--------------------+-------------+---------------+----------+-------------+\n",
            "only showing top 5 rows\n",
            "\n"
          ]
        }
      ]
    },
    {
      "cell_type": "code",
      "source": [
        "# spark.conf.set(\"spark.sql.execution.pandas.convertToPythonArrow\", \"false\")"
      ],
      "metadata": {
        "id": "J-7N9hTgRl-W"
      },
      "execution_count": null,
      "outputs": []
    },
    {
      "cell_type": "code",
      "source": [
        "from pyspark.sql.functions import col, count, when\n",
        "\n",
        "# Total row count\n",
        "total_rows = df_cleaned.count()\n",
        "\n",
        "# Missing value count per column\n",
        "missing_data = df_cleaned.select([\n",
        "    (count(when(col(c).isNull(), c)) / total_rows * 100).alias(c)\n",
        "    for c in df_cleaned.columns\n",
        "])\n",
        "\n",
        "# Show missing percentage for each column\n",
        "missing_data.show(truncate=False)\n"
      ],
      "metadata": {
        "colab": {
          "base_uri": "https://localhost:8080/"
        },
        "id": "O6I8UKoNQ2Gh",
        "outputId": "6e5a36b4-cfde-4a8c-c8f5-656faa38868a"
      },
      "execution_count": null,
      "outputs": [
        {
          "output_type": "stream",
          "name": "stdout",
          "text": [
            "+-------+--------+-------+-----------------+------------+------+----------+-----------------+-------------------------+-----------------+-----------------+---------------------+----------+-----------------+-------------------------+-----------------+-----------------+---------------------+----------+-----------------+-------------------------+-----------------+-----------------+---------------------+----------------+----------------+------------------+----------------+-----------------+----------------+----------------+\n",
            "|EVENTID|EVENTNUM|GAME_ID|HOMEDESCRIPTION  |PCTIMESTRING|PERIOD|PLAYER1_ID|PLAYER1_NAME     |PLAYER1_TEAM_ABBREVIATION|PLAYER1_TEAM_CITY|PLAYER1_TEAM_ID  |PLAYER1_TEAM_NICKNAME|PLAYER2_ID|PLAYER2_NAME     |PLAYER2_TEAM_ABBREVIATION|PLAYER2_TEAM_CITY|PLAYER2_TEAM_ID  |PLAYER2_TEAM_NICKNAME|PLAYER3_ID|PLAYER3_NAME     |PLAYER3_TEAM_ABBREVIATION|PLAYER3_TEAM_CITY|PLAYER3_TEAM_ID  |PLAYER3_TEAM_NICKNAME|SCORE           |SCOREMARGIN     |VISITORDESCRIPTION|CLEANED_SCORE   |SCOREMARGIN_INT  |HOME_SCORE      |VISITOR_SCORE   |\n",
            "+-------+--------+-------+-----------------+------------+------+----------+-----------------+-------------------------+-----------------+-----------------+---------------------+----------+-----------------+-------------------------+-----------------+-----------------+---------------------+----------+-----------------+-------------------------+-----------------+-----------------+---------------------+----------------+----------------+------------------+----------------+-----------------+----------------+----------------+\n",
            "|0.0    |0.0     |0.0    |47.89407760725718|0.0         |0.0   |0.0       |9.175217297789699|9.175217297789699        |9.175217297789699|9.175217297789699|9.175217297789699    |0.0       |78.61435493870115|78.61435493870115        |78.61435493870115|78.61435493870115|78.61435493870115    |0.0       |97.16595604701477|97.16595604701477        |97.16595604701477|97.16595604701477|97.16595604701477    |74.2329735953137|74.2329735953137|48.58361062260403 |74.2329735953137|75.47919381571123|74.2329735953137|74.2329735953137|\n",
            "+-------+--------+-------+-----------------+------------+------+----------+-----------------+-------------------------+-----------------+-----------------+---------------------+----------+-----------------+-------------------------+-----------------+-----------------+---------------------+----------+-----------------+-------------------------+-----------------+-----------------+---------------------+----------------+----------------+------------------+----------------+-----------------+----------------+----------------+\n",
            "\n"
          ]
        }
      ]
    },
    {
      "cell_type": "code",
      "source": [
        "df_cleaned_filtered = df_cleaned.na.drop(subset=[\"CLEANED_SCORE\", \"HOME_SCORE\", \"VISITOR_SCORE\", \"SCOREMARGIN_INT\"])"
      ],
      "metadata": {
        "id": "AZuoTLi9TOZj"
      },
      "execution_count": null,
      "outputs": []
    },
    {
      "cell_type": "code",
      "source": [
        "from pyspark.sql.functions import col\n",
        "\n",
        "df_cleaned_filtered = df_cleaned_filtered.withColumn(\"HOME_SCORE\", col(\"HOME_SCORE\").cast(\"int\")) \\\n",
        "                                         .withColumn(\"VISITOR_SCORE\", col(\"VISITOR_SCORE\").cast(\"int\")) \\\n",
        "                                         .withColumn(\"SCOREMARGIN_INT\", col(\"SCOREMARGIN_INT\").cast(\"int\"))\n"
      ],
      "metadata": {
        "id": "LuaIs-4lTRQD"
      },
      "execution_count": null,
      "outputs": []
    },
    {
      "cell_type": "code",
      "source": [
        "from pyspark.sql.functions import col, count, when\n",
        "\n",
        "# Total row count\n",
        "total_rows = df_cleaned_filtered.count()\n",
        "\n",
        "# Missing value count per column\n",
        "missing_data2 = df_cleaned_filtered.select([\n",
        "    (count(when(col(c).isNull(), c)) / total_rows * 100).alias(c)\n",
        "    for c in df_cleaned_filtered.columns\n",
        "])\n",
        "\n",
        "# Show missing percentage for each column\n",
        "missing_data2.show(truncate=False)\n"
      ],
      "metadata": {
        "colab": {
          "base_uri": "https://localhost:8080/"
        },
        "id": "VSq-4_l1ThC1",
        "outputId": "d7d9ba4d-d225-46b6-a299-780b9b27c9dd"
      },
      "execution_count": null,
      "outputs": [
        {
          "output_type": "stream",
          "name": "stdout",
          "text": [
            "+-------+--------+-------+-----------------+------------+------+----------+-----------------+-------------------------+-----------------+-----------------+---------------------+----------+-----------------+-------------------------+-----------------+-----------------+---------------------+----------+------------+-------------------------+-----------------+---------------+---------------------+-----+-----------+------------------+-------------+---------------+----------+-------------+\n",
            "|EVENTID|EVENTNUM|GAME_ID|HOMEDESCRIPTION  |PCTIMESTRING|PERIOD|PLAYER1_ID|PLAYER1_NAME     |PLAYER1_TEAM_ABBREVIATION|PLAYER1_TEAM_CITY|PLAYER1_TEAM_ID  |PLAYER1_TEAM_NICKNAME|PLAYER2_ID|PLAYER2_NAME     |PLAYER2_TEAM_ABBREVIATION|PLAYER2_TEAM_CITY|PLAYER2_TEAM_ID  |PLAYER2_TEAM_NICKNAME|PLAYER3_ID|PLAYER3_NAME|PLAYER3_TEAM_ABBREVIATION|PLAYER3_TEAM_CITY|PLAYER3_TEAM_ID|PLAYER3_TEAM_NICKNAME|SCORE|SCOREMARGIN|VISITORDESCRIPTION|CLEANED_SCORE|SCOREMARGIN_INT|HOME_SCORE|VISITOR_SCORE|\n",
            "+-------+--------+-------+-----------------+------------+------+----------+-----------------+-------------------------+-----------------+-----------------+---------------------+----------+-----------------+-------------------------+-----------------+-----------------+---------------------+----------+------------+-------------------------+-----------------+---------------+---------------------+-----+-----------+------------------+-------------+---------------+----------+-------------+\n",
            "|0.0    |0.0     |0.0    |51.84974975491461|0.0         |0.0   |0.0       |6.134874361488055|6.134874361488055        |6.134874361488055|6.134874361488055|6.134874361488055    |0.0       |62.75733966255611|62.75733966255611        |62.75733966255611|62.75733966255611|62.75733966255611    |0.0       |100.0       |100.0                    |100.0            |100.0          |100.0                |0.0  |0.0        |54.28512460657344 |0.0          |0.0            |0.0       |0.0          |\n",
            "+-------+--------+-------+-----------------+------------+------+----------+-----------------+-------------------------+-----------------+-----------------+---------------------+----------+-----------------+-------------------------+-----------------+-----------------+---------------------+----------+------------+-------------------------+-----------------+---------------+---------------------+-----+-----------+------------------+-------------+---------------+----------+-------------+\n",
            "\n"
          ]
        }
      ]
    },
    {
      "cell_type": "code",
      "source": [
        "from pyspark.sql.functions import col\n",
        "\n",
        "# Drop original columns\n",
        "df_prepared = df_cleaned_filtered.drop(\"SCORE\", \"SCOREMARGIN\")"
      ],
      "metadata": {
        "id": "zKEg4aMmUmzc"
      },
      "execution_count": null,
      "outputs": []
    },
    {
      "cell_type": "code",
      "source": [
        "df_prepared.show(5)"
      ],
      "metadata": {
        "colab": {
          "base_uri": "https://localhost:8080/"
        },
        "id": "pUGTKqgkVMic",
        "outputId": "fba4d54f-1723-493e-fda0-0f992d3def91"
      },
      "execution_count": null,
      "outputs": [
        {
          "output_type": "stream",
          "name": "stdout",
          "text": [
            "+-------+--------+--------+--------------------+-------------------+------+----------+-------------+-------------------------+-----------------+---------------+---------------------+----------+---------------+-------------------------+-----------------+---------------+---------------------+----------+------------+-------------------------+-----------------+---------------+---------------------+--------------------+-------------+---------------+----------+-------------+\n",
            "|EVENTID|EVENTNUM| GAME_ID|     HOMEDESCRIPTION|       PCTIMESTRING|PERIOD|PLAYER1_ID| PLAYER1_NAME|PLAYER1_TEAM_ABBREVIATION|PLAYER1_TEAM_CITY|PLAYER1_TEAM_ID|PLAYER1_TEAM_NICKNAME|PLAYER2_ID|   PLAYER2_NAME|PLAYER2_TEAM_ABBREVIATION|PLAYER2_TEAM_CITY|PLAYER2_TEAM_ID|PLAYER2_TEAM_NICKNAME|PLAYER3_ID|PLAYER3_NAME|PLAYER3_TEAM_ABBREVIATION|PLAYER3_TEAM_CITY|PLAYER3_TEAM_ID|PLAYER3_TEAM_NICKNAME|  VISITORDESCRIPTION|CLEANED_SCORE|SCOREMARGIN_INT|HOME_SCORE|VISITOR_SCORE|\n",
            "+-------+--------+--------+--------------------+-------------------+------+----------+-------------+-------------------------+-----------------+---------------+---------------------+----------+---------------+-------------------------+-----------------+---------------+---------------------+----------+------------+-------------------------+-----------------+---------------+---------------------+--------------------+-------------+---------------+----------+-------------+\n",
            "|      2|       2|20001116|                null|2025-04-17 11:45:00|     1|       947|Allen Iverson|                      PHI|     Philadelphia|     1610612755|                76ers|         0|           null|                     null|             null|           null|                 null|         0|        null|                     null|             null|           null|                 null|Iverson 21' Jump ...|        2 - 0|             -2|         2|            0|\n",
            "|      9|       9|20001116|                null|2025-04-17 10:44:00|     1|       248| George Lynch|                      PHI|     Philadelphia|     1610612755|                76ers|       727|      Eric Snow|                      PHI|     Philadelphia|     1610612755|                76ers|         0|        null|                     null|             null|           null|                 null|Lynch  Layup (2 P...|       04 - 2|             -2|         4|            2|\n",
            "|     19|      19|20001116|                null|2025-04-17 09:45:00|     1|       947|Allen Iverson|                      PHI|     Philadelphia|     1610612755|                76ers|         0|           null|                     null|             null|           null|                 null|         0|        null|                     null|             null|           null|                 null|Iverson  Driving ...|       06 - 2|             -4|         6|            2|\n",
            "|     23|      24|20001116|                null|2025-04-17 09:15:00|     1|       947|Allen Iverson|                      PHI|     Philadelphia|     1610612755|                76ers|        87|Dikembe Mutombo|                      PHI|     Philadelphia|     1610612755|                76ers|         0|        null|                     null|             null|           null|                 null|Iverson 24' 3PT J...|       09 - 2|             -7|         9|            2|\n",
            "|     24|      25|20001116|Grant 17' Jump Sh...|2025-04-17 08:54:00|     1|       258|  Brian Grant|                      MIA|            Miami|     1610612748|                 Heat|       105|    Dan Majerle|                      MIA|            Miami|     1610612748|                 Heat|         0|        null|                     null|             null|           null|                 null|                null|       09 - 4|             -5|         9|            4|\n",
            "+-------+--------+--------+--------------------+-------------------+------+----------+-------------+-------------------------+-----------------+---------------+---------------------+----------+---------------+-------------------------+-----------------+---------------+---------------------+----------+------------+-------------------------+-----------------+---------------+---------------------+--------------------+-------------+---------------+----------+-------------+\n",
            "only showing top 5 rows\n",
            "\n"
          ]
        }
      ]
    },
    {
      "cell_type": "code",
      "source": [
        "# Rename new processed columns\n",
        "df_prepared = df_prepared.withColumnRenamed(\"CLEANED_SCORE\", \"SCORE\") \\\n",
        "                         .withColumnRenamed(\"SCOREMARGIN_INT\", \"SCOREMARGIN\")"
      ],
      "metadata": {
        "id": "XJsmsiuEVMNW"
      },
      "execution_count": null,
      "outputs": []
    },
    {
      "cell_type": "code",
      "source": [
        "# Show updated DataFrame schema\n",
        "df_prepared.printSchema()"
      ],
      "metadata": {
        "colab": {
          "base_uri": "https://localhost:8080/"
        },
        "id": "SYDLFwXAUw5v",
        "outputId": "b9f88a72-dc9c-487e-a2c5-d2ac801a4509"
      },
      "execution_count": null,
      "outputs": [
        {
          "output_type": "stream",
          "name": "stdout",
          "text": [
            "root\n",
            " |-- EVENTID: integer (nullable = true)\n",
            " |-- EVENTNUM: integer (nullable = true)\n",
            " |-- GAME_ID: integer (nullable = true)\n",
            " |-- HOMEDESCRIPTION: string (nullable = true)\n",
            " |-- PCTIMESTRING: timestamp (nullable = true)\n",
            " |-- PERIOD: integer (nullable = true)\n",
            " |-- PLAYER1_ID: integer (nullable = true)\n",
            " |-- PLAYER1_NAME: string (nullable = true)\n",
            " |-- PLAYER1_TEAM_ABBREVIATION: string (nullable = true)\n",
            " |-- PLAYER1_TEAM_CITY: string (nullable = true)\n",
            " |-- PLAYER1_TEAM_ID: integer (nullable = true)\n",
            " |-- PLAYER1_TEAM_NICKNAME: string (nullable = true)\n",
            " |-- PLAYER2_ID: integer (nullable = true)\n",
            " |-- PLAYER2_NAME: string (nullable = true)\n",
            " |-- PLAYER2_TEAM_ABBREVIATION: string (nullable = true)\n",
            " |-- PLAYER2_TEAM_CITY: string (nullable = true)\n",
            " |-- PLAYER2_TEAM_ID: integer (nullable = true)\n",
            " |-- PLAYER2_TEAM_NICKNAME: string (nullable = true)\n",
            " |-- PLAYER3_ID: integer (nullable = true)\n",
            " |-- PLAYER3_NAME: string (nullable = true)\n",
            " |-- PLAYER3_TEAM_ABBREVIATION: string (nullable = true)\n",
            " |-- PLAYER3_TEAM_CITY: string (nullable = true)\n",
            " |-- PLAYER3_TEAM_ID: integer (nullable = true)\n",
            " |-- PLAYER3_TEAM_NICKNAME: string (nullable = true)\n",
            " |-- VISITORDESCRIPTION: string (nullable = true)\n",
            " |-- SCORE: string (nullable = true)\n",
            " |-- SCOREMARGIN: integer (nullable = true)\n",
            " |-- HOME_SCORE: integer (nullable = true)\n",
            " |-- VISITOR_SCORE: integer (nullable = true)\n",
            "\n"
          ]
        }
      ]
    },
    {
      "cell_type": "code",
      "source": [
        "# Show top few rows\n",
        "df_prepared.show(5)"
      ],
      "metadata": {
        "colab": {
          "base_uri": "https://localhost:8080/"
        },
        "id": "6ZR94I53UzBG",
        "outputId": "206eba44-ea1c-44ad-86e4-9e2891dd5207"
      },
      "execution_count": null,
      "outputs": [
        {
          "output_type": "stream",
          "name": "stdout",
          "text": [
            "+-------+--------+--------+--------------------+-------------------+------+----------+-------------+-------------------------+-----------------+---------------+---------------------+----------+---------------+-------------------------+-----------------+---------------+---------------------+----------+------------+-------------------------+-----------------+---------------+---------------------+--------------------+------+-----------+----------+-------------+\n",
            "|EVENTID|EVENTNUM| GAME_ID|     HOMEDESCRIPTION|       PCTIMESTRING|PERIOD|PLAYER1_ID| PLAYER1_NAME|PLAYER1_TEAM_ABBREVIATION|PLAYER1_TEAM_CITY|PLAYER1_TEAM_ID|PLAYER1_TEAM_NICKNAME|PLAYER2_ID|   PLAYER2_NAME|PLAYER2_TEAM_ABBREVIATION|PLAYER2_TEAM_CITY|PLAYER2_TEAM_ID|PLAYER2_TEAM_NICKNAME|PLAYER3_ID|PLAYER3_NAME|PLAYER3_TEAM_ABBREVIATION|PLAYER3_TEAM_CITY|PLAYER3_TEAM_ID|PLAYER3_TEAM_NICKNAME|  VISITORDESCRIPTION| SCORE|SCOREMARGIN|HOME_SCORE|VISITOR_SCORE|\n",
            "+-------+--------+--------+--------------------+-------------------+------+----------+-------------+-------------------------+-----------------+---------------+---------------------+----------+---------------+-------------------------+-----------------+---------------+---------------------+----------+------------+-------------------------+-----------------+---------------+---------------------+--------------------+------+-----------+----------+-------------+\n",
            "|      2|       2|20001116|                null|2025-04-17 11:45:00|     1|       947|Allen Iverson|                      PHI|     Philadelphia|     1610612755|                76ers|         0|           null|                     null|             null|           null|                 null|         0|        null|                     null|             null|           null|                 null|Iverson 21' Jump ...| 2 - 0|         -2|         2|            0|\n",
            "|      9|       9|20001116|                null|2025-04-17 10:44:00|     1|       248| George Lynch|                      PHI|     Philadelphia|     1610612755|                76ers|       727|      Eric Snow|                      PHI|     Philadelphia|     1610612755|                76ers|         0|        null|                     null|             null|           null|                 null|Lynch  Layup (2 P...|04 - 2|         -2|         4|            2|\n",
            "|     19|      19|20001116|                null|2025-04-17 09:45:00|     1|       947|Allen Iverson|                      PHI|     Philadelphia|     1610612755|                76ers|         0|           null|                     null|             null|           null|                 null|         0|        null|                     null|             null|           null|                 null|Iverson  Driving ...|06 - 2|         -4|         6|            2|\n",
            "|     23|      24|20001116|                null|2025-04-17 09:15:00|     1|       947|Allen Iverson|                      PHI|     Philadelphia|     1610612755|                76ers|        87|Dikembe Mutombo|                      PHI|     Philadelphia|     1610612755|                76ers|         0|        null|                     null|             null|           null|                 null|Iverson 24' 3PT J...|09 - 2|         -7|         9|            2|\n",
            "|     24|      25|20001116|Grant 17' Jump Sh...|2025-04-17 08:54:00|     1|       258|  Brian Grant|                      MIA|            Miami|     1610612748|                 Heat|       105|    Dan Majerle|                      MIA|            Miami|     1610612748|                 Heat|         0|        null|                     null|             null|           null|                 null|                null|09 - 4|         -5|         9|            4|\n",
            "+-------+--------+--------+--------------------+-------------------+------+----------+-------------+-------------------------+-----------------+---------------+---------------------+----------+---------------+-------------------------+-----------------+---------------+---------------------+----------+------------+-------------------------+-----------------+---------------+---------------------+--------------------+------+-----------+----------+-------------+\n",
            "only showing top 5 rows\n",
            "\n"
          ]
        }
      ]
    },
    {
      "cell_type": "code",
      "source": [
        "df_prepared.describe().show()"
      ],
      "metadata": {
        "colab": {
          "base_uri": "https://localhost:8080/"
        },
        "id": "B5Q1nsLM5MLn",
        "outputId": "eac19c45-7bef-40ec-cb7b-410e5e4865ed"
      },
      "execution_count": null,
      "outputs": [
        {
          "output_type": "stream",
          "name": "stdout",
          "text": [
            "+-------+------------------+------------------+--------------------+--------------------+------------------+-----------------+------------------+-------------------------+-----------------+-------------------+---------------------+------------------+------------+-------------------------+-----------------+--------------------+---------------------+----------+------------+-------------------------+-----------------+---------------+---------------------+--------------------+-------+------------------+------------------+-----------------+\n",
            "|summary|           EVENTID|          EVENTNUM|             GAME_ID|     HOMEDESCRIPTION|            PERIOD|       PLAYER1_ID|      PLAYER1_NAME|PLAYER1_TEAM_ABBREVIATION|PLAYER1_TEAM_CITY|    PLAYER1_TEAM_ID|PLAYER1_TEAM_NICKNAME|        PLAYER2_ID|PLAYER2_NAME|PLAYER2_TEAM_ABBREVIATION|PLAYER2_TEAM_CITY|     PLAYER2_TEAM_ID|PLAYER2_TEAM_NICKNAME|PLAYER3_ID|PLAYER3_NAME|PLAYER3_TEAM_ABBREVIATION|PLAYER3_TEAM_CITY|PLAYER3_TEAM_ID|PLAYER3_TEAM_NICKNAME|  VISITORDESCRIPTION|  SCORE|       SCOREMARGIN|        HOME_SCORE|    VISITOR_SCORE|\n",
            "+-------+------------------+------------------+--------------------+--------------------+------------------+-----------------+------------------+-------------------------+-----------------+-------------------+---------------------+------------------+------------+-------------------------+-----------------+--------------------+---------------------+----------+------------+-------------------------+-----------------+---------------+---------------------+--------------------+-------+------------------+------------------+-----------------+\n",
            "|  count|             19381|             19381|               19381|                9332|             19381|            19381|             18192|                    18192|            18192|              18192|                18192|             19381|        7218|                     7218|             7218|                7218|                 7218|     19381|           0|                        0|                0|              0|                    0|                8860|  19381|             19381|             19381|            19381|\n",
            "|   mean|229.19204375419224|242.28001651101593|2.0000628257933028E7|                null|2.5543057633765027| 923.721737784428|              null|                     null|             null|1.610612752055464E9|                 null|351.25932614416183|        null|                     null|             null|1.6106127520184262E9|                 null|       0.0|        null|                     null|             null|           null|                 null|                null|   null|2.4882101026778805| 49.45972860017543|51.59697642020536|\n",
            "| stddev|131.84171859577793|140.54328122812962|   344.9368099645954|                null| 1.117689945579842|685.2076288620607|              null|                     null|             null|   8.64005133724307|                 null| 614.4778409838772|        null|                     null|             null|   8.656345507766678|                 null|       0.0|        null|                     null|             null|           null|                 null|                null|   null|  10.7713465692448|27.792528766207177|29.21701741178531|\n",
            "|    min|                 2|                 1|            20000006|Abdul-Rauf 14' Ju...|                 1|                0|        A.C. Green|                      ATL|          Atlanta|         1610612737|                76ers|                 0|  A.C. Green|                      ATL|          Atlanta|          1610612737|                76ers|         0|        null|                     null|             null|           null|                 null|Abdul-Rauf  Layup...|  0 - 1|               -47|                 0|                0|\n",
            "|    max|               582|               622|            20001189|Wright Free Throw...|                 5|             2130|Zydrunas Ilgauskas|                      WAS|       Washington|         1610612766|              Wizards|              2173|   Zan Tabak|                      WAS|       Washington|          1610612766|              Wizards|         0|        null|                     null|             null|           null|                 null|Wright 8' Hook Sh...|99 - 98|                40|               129|              126|\n",
            "+-------+------------------+------------------+--------------------+--------------------+------------------+-----------------+------------------+-------------------------+-----------------+-------------------+---------------------+------------------+------------+-------------------------+-----------------+--------------------+---------------------+----------+------------+-------------------------+-----------------+---------------+---------------------+--------------------+-------+------------------+------------------+-----------------+\n",
            "\n"
          ]
        }
      ]
    },
    {
      "cell_type": "markdown",
      "source": [
        "Task 3 - Performing Machine Learning model using Spark MLlib\n"
      ],
      "metadata": {
        "id": "_4cgg9Ccqwi1"
      }
    },
    {
      "cell_type": "markdown",
      "source": [
        "Prepare the data for the ML Process"
      ],
      "metadata": {
        "id": "YNU4RcDlCjog"
      }
    },
    {
      "cell_type": "code",
      "source": [
        "from pyspark.sql.functions import first\n",
        "\n",
        "# Get home team and visitor team for each Game_ID\n",
        "home_team_df = df_prepared.filter(col(\"HOMEDESCRIPTION\").isNotNull()) \\\n",
        "    .select(\"GAME_ID\", col(\"PLAYER1_TEAM_NICKNAME\").alias(\"Home_Team\")) \\\n",
        "    .groupBy(\"GAME_ID\").agg(first(\"Home_Team\").alias(\"Home_Team\"))\n",
        "\n",
        "visitor_team_df = df_prepared.filter(col(\"VISITORDESCRIPTION\").isNotNull()) \\\n",
        "    .select(\"GAME_ID\", col(\"PLAYER1_TEAM_NICKNAME\").alias(\"Visitor_Team\")) \\\n",
        "    .groupBy(\"GAME_ID\").agg(first(\"Visitor_Team\").alias(\"Visitor_Team\"))\n",
        "\n",
        "# Join home and visitor teams\n",
        "game_teams_df = home_team_df.join(visitor_team_df, on=\"GAME_ID\")\n"
      ],
      "metadata": {
        "id": "nwfNkA4W_lwE"
      },
      "execution_count": null,
      "outputs": []
    },
    {
      "cell_type": "code",
      "source": [
        "df_enriched = df_prepared.join(game_teams_df, on=\"GAME_ID\", how=\"left\")\n"
      ],
      "metadata": {
        "id": "rz684LsV_lzF"
      },
      "execution_count": null,
      "outputs": []
    },
    {
      "cell_type": "code",
      "source": [
        "from pyspark.sql.functions import lit\n",
        "\n",
        "# Combine descriptions and assign team type\n",
        "df_desc = df_enriched.withColumn(\n",
        "    \"DESCRIPTION\",\n",
        "    when(col(\"HOMEDESCRIPTION\").isNotNull(), col(\"HOMEDESCRIPTION\"))\n",
        "    .otherwise(col(\"VISITORDESCRIPTION\"))\n",
        ").withColumn(\n",
        "    \"TEAM_TYPE\",\n",
        "    when(col(\"HOMEDESCRIPTION\").isNotNull(), lit(\"HOME\"))\n",
        "    .otherwise(lit(\"VISITOR\"))\n",
        ")\n",
        "\n",
        "# Assign Team and Opponent using the lookup columns\n",
        "df_team_assign = df_desc.withColumn(\n",
        "    \"Team\",\n",
        "    when(col(\"TEAM_TYPE\") == \"HOME\", col(\"Home_Team\"))\n",
        "    .otherwise(col(\"Visitor_Team\"))\n",
        ").withColumn(\n",
        "    \"Opponent\",\n",
        "    when(col(\"TEAM_TYPE\") == \"HOME\", col(\"Visitor_Team\"))\n",
        "    .otherwise(col(\"Home_Team\"))\n",
        ")\n"
      ],
      "metadata": {
        "id": "wE8E0faD9Ygi"
      },
      "execution_count": null,
      "outputs": []
    },
    {
      "cell_type": "code",
      "source": [
        "df_points = df_team_assign.withColumn(\n",
        "    \"Points_Scored\",\n",
        "    when(col(\"DESCRIPTION\").rlike(\"3PT\"), lit(3))\n",
        "    .when(col(\"DESCRIPTION\").rlike(\"2 PTS|Layup|Jump Shot\"), lit(2))\n",
        "    .otherwise(lit(0))\n",
        ")\n"
      ],
      "metadata": {
        "id": "lN16UcdjAayC"
      },
      "execution_count": null,
      "outputs": []
    },
    {
      "cell_type": "code",
      "source": [
        "from pyspark.sql.functions import sum as spark_sum\n",
        "\n",
        "df_final = df_points.groupBy(\"GAME_ID\", \"PLAYER1_NAME\", \"Team\", \"Opponent\") \\\n",
        "    .agg(spark_sum(\"Points_Scored\").alias(\"Points_Scored\")) \\\n",
        "    .withColumnRenamed(\"PLAYER1_NAME\", \"Player_Name\") \\\n",
        "    .withColumnRenamed(\"GAME_ID\", \"Game_ID\") \\\n",
        "    .filter((col(\"Player_Name\").isNotNull()) & (col(\"Team\") != col(\"Opponent\"))) \\\n",
        "    .orderBy(\"Game_ID\", \"Player_Name\")\n",
        "\n",
        "df_final.show(truncate=False)\n"
      ],
      "metadata": {
        "colab": {
          "base_uri": "https://localhost:8080/"
        },
        "id": "dp6CBqADAawD",
        "outputId": "ee8b26de-3daf-4ebb-fa48-24f403565780"
      },
      "execution_count": null,
      "outputs": [
        {
          "output_type": "stream",
          "name": "stdout",
          "text": [
            "+--------+--------------------+------+--------+-------------+\n",
            "|Game_ID |Player_Name         |Team  |Opponent|Points_Scored|\n",
            "+--------+--------------------+------+--------+-------------+\n",
            "|20000006|Bobby Jackson       |Kings |Bulls   |11           |\n",
            "|20000006|Chris Webber        |Kings |Bulls   |8            |\n",
            "|20000006|Darrick Martin      |Kings |Bulls   |4            |\n",
            "|20000006|Doug Christie       |Kings |Bulls   |6            |\n",
            "|20000006|Elton Brand         |Bulls |Kings   |4            |\n",
            "|20000006|Fred Hoiberg        |Bulls |Kings   |8            |\n",
            "|20000006|Jamal Crawford      |Bulls |Kings   |3            |\n",
            "|20000006|Jon Barry           |Kings |Bulls   |4            |\n",
            "|20000006|Khalid El-Amin      |Bulls |Kings   |7            |\n",
            "|20000006|Lawrence Funderburke|Kings |Bulls   |4            |\n",
            "|20000006|Marcus Fizer        |Bulls |Kings   |16           |\n",
            "|20000006|Metta World Peace   |Bulls |Kings   |2            |\n",
            "|20000006|Nick Anderson       |Kings |Bulls   |3            |\n",
            "|20000006|Peja Stojakovic     |Kings |Bulls   |21           |\n",
            "|20000006|Ron Mercer          |Bulls |Kings   |10           |\n",
            "|20000006|Scot Pollard        |Kings |Bulls   |2            |\n",
            "|20000006|Vlade Divac         |Kings |Bulls   |4            |\n",
            "|20000009|Al Harrington       |Pacers|Spurs   |0            |\n",
            "|20000009|Antonio Daniels     |Spurs |Pacers  |12           |\n",
            "|20000009|Austin Croshere     |Pacers|Spurs   |17           |\n",
            "+--------+--------------------+------+--------+-------------+\n",
            "only showing top 20 rows\n",
            "\n"
          ]
        }
      ]
    },
    {
      "cell_type": "code",
      "source": [
        "# Describe all numeric columns\n",
        "df_final.describe().show()\n"
      ],
      "metadata": {
        "colab": {
          "base_uri": "https://localhost:8080/"
        },
        "id": "F1QR903DAatI",
        "outputId": "1e6d942b-4b49-45d5-e6de-2a19fcea5845"
      },
      "execution_count": null,
      "outputs": [
        {
          "output_type": "stream",
          "name": "stdout",
          "text": [
            "+-------+-------------------+------------------+-------+--------+-----------------+\n",
            "|summary|            Game_ID|       Player_Name|   Team|Opponent|    Points_Scored|\n",
            "+-------+-------------------+------------------+-------+--------+-----------------+\n",
            "|  count|               3064|              3064|   3064|    3064|             3064|\n",
            "|   mean|2.000062322356397E7|              null|   null|    null|7.724869451697128|\n",
            "| stddev|  349.8436654077477|              null|   null|    null|5.832885061301553|\n",
            "|    min|           20000006|        A.C. Green|  76ers|   76ers|                0|\n",
            "|    max|           20001189|Zydrunas Ilgauskas|Wizards| Wizards|               38|\n",
            "+-------+-------------------+------------------+-------+--------+-----------------+\n",
            "\n"
          ]
        }
      ]
    },
    {
      "cell_type": "code",
      "source": [
        "from pyspark.sql.functions import col, count, when\n",
        "\n",
        "# Total rows\n",
        "total_rows = df_final.count()\n",
        "\n",
        "# Count nulls per column\n",
        "missing_counts = df_final.select([\n",
        "    count(when(col(c).isNull(), c)).alias(c) for c in df_final.columns\n",
        "])\n",
        "\n",
        "missing_counts.show(truncate=False)\n"
      ],
      "metadata": {
        "colab": {
          "base_uri": "https://localhost:8080/"
        },
        "id": "80V95cF_AarP",
        "outputId": "531ba199-f7dd-4621-eb34-bb6a3d44a883"
      },
      "execution_count": null,
      "outputs": [
        {
          "output_type": "stream",
          "name": "stdout",
          "text": [
            "+-------+-----------+----+--------+-------------+\n",
            "|Game_ID|Player_Name|Team|Opponent|Points_Scored|\n",
            "+-------+-----------+----+--------+-------------+\n",
            "|0      |0          |0   |0       |0            |\n",
            "+-------+-----------+----+--------+-------------+\n",
            "\n"
          ]
        }
      ]
    },
    {
      "cell_type": "code",
      "source": [
        "from pyspark.sql.functions import round\n",
        "\n",
        "# Create percentage table\n",
        "missing_percentage = df_final.select([\n",
        "    round((count(when(col(c).isNull(), c)) / total_rows) * 100, 2).alias(c + \"_missing_%\")\n",
        "    for c in df_final.columns\n",
        "])\n",
        "\n",
        "missing_percentage.show(truncate=False)\n"
      ],
      "metadata": {
        "colab": {
          "base_uri": "https://localhost:8080/"
        },
        "id": "b6lfUXrCAaoY",
        "outputId": "a20aa071-5063-4c42-e972-46a81332a4c5"
      },
      "execution_count": null,
      "outputs": [
        {
          "output_type": "stream",
          "name": "stdout",
          "text": [
            "+-----------------+---------------------+--------------+------------------+-----------------------+\n",
            "|Game_ID_missing_%|Player_Name_missing_%|Team_missing_%|Opponent_missing_%|Points_Scored_missing_%|\n",
            "+-----------------+---------------------+--------------+------------------+-----------------------+\n",
            "|0.0              |0.0                  |0.0           |0.0               |0.0                    |\n",
            "+-----------------+---------------------+--------------+------------------+-----------------------+\n",
            "\n"
          ]
        }
      ]
    },
    {
      "cell_type": "code",
      "source": [
        "model_data = df_final.select(\n",
        "    F.col(\"Player_Name\").alias(\"Player\"),\n",
        "    F.col(\"Opponent\"),\n",
        "    F.col(\"Points_Scored\").alias(\"Actual_Score\")\n",
        ")"
      ],
      "metadata": {
        "id": "z4DihkPZRdmx"
      },
      "execution_count": null,
      "outputs": []
    },
    {
      "cell_type": "code",
      "source": [
        "from pyspark.ml.feature import StringIndexer\n",
        "\n",
        "player_indexer = StringIndexer(inputCol=\"Player\", outputCol=\"Player_Index\")\n",
        "opponent_indexer = StringIndexer(inputCol=\"Opponent\", outputCol=\"Opponent_Index\")"
      ],
      "metadata": {
        "id": "tXuTP1E1RkPM"
      },
      "execution_count": null,
      "outputs": []
    },
    {
      "cell_type": "code",
      "source": [
        "indexed_data = player_indexer.fit(model_data).transform(model_data)\n",
        "indexed_data = opponent_indexer.fit(indexed_data).transform(indexed_data)"
      ],
      "metadata": {
        "id": "jrsJ0cAlRnHw"
      },
      "execution_count": null,
      "outputs": []
    },
    {
      "cell_type": "code",
      "source": [
        "from pyspark.ml.feature import OneHotEncoder\n",
        "\n",
        "# OneHotEncoder for Player and Opponent\n",
        "player_encoder = OneHotEncoder(inputCol=\"Player_Index\", outputCol=\"Player_OneHot\")\n",
        "opponent_encoder = OneHotEncoder(inputCol=\"Opponent_Index\", outputCol=\"Opponent_OneHot\")\n",
        "\n",
        "encoded_data = player_encoder.fit(indexed_data).transform(indexed_data)\n",
        "encoded_data = opponent_encoder.fit(encoded_data).transform(encoded_data)"
      ],
      "metadata": {
        "id": "b8VkqGavRsex"
      },
      "execution_count": null,
      "outputs": []
    },
    {
      "cell_type": "markdown",
      "source": [
        "Assemble the Features"
      ],
      "metadata": {
        "id": "sAwGplZjSN_t"
      }
    },
    {
      "cell_type": "code",
      "source": [
        "from pyspark.ml.feature import VectorAssembler\n",
        "\n",
        "assembler = VectorAssembler(\n",
        "    inputCols=[\"Player_OneHot\", \"Opponent_OneHot\"],\n",
        "    outputCol=\"features\"\n",
        ")\n",
        "\n",
        "data_features = assembler.transform(encoded_data)"
      ],
      "metadata": {
        "id": "zXLQgqqUAajX"
      },
      "execution_count": null,
      "outputs": []
    },
    {
      "cell_type": "markdown",
      "source": [
        "Split the Data"
      ],
      "metadata": {
        "id": "74kuCjz7SVyu"
      }
    },
    {
      "cell_type": "code",
      "source": [
        "train_data, test_data = data_features.randomSplit([0.8, 0.2], seed=42)"
      ],
      "metadata": {
        "id": "UOQbzR0kSTzq"
      },
      "execution_count": null,
      "outputs": []
    },
    {
      "cell_type": "markdown",
      "source": [
        "**Candidate Models**\n",
        "\n",
        "1. Multiple Linear Regression (MLR)\n",
        "- Simple, interpretable. Predicts scores using features like field goals, assists, etc.\n",
        "- High accuracy (R² > 0.98) shown in NBA prediction studies.\n",
        "*Ghaderyan & Hasanpour (2023) Scitepress*\n",
        "\n",
        "2. Random Forest Regression\n",
        "Captures non-linear relationships, handles complex interactions.\n",
        "Comparable to MLR, good accuracy and generalization.\n",
        "*Ghaderyan & Hasanpour (2023) Scitepress*\n",
        "\n",
        "3. Gradient Boosted Trees (GBT)\n",
        "Higher accuracy in complex, structured datasets.\n",
        "Proven performance in ensemble-based sports analytics.\n",
        "*Zhang et al. (2023) IEEE Xplore (general sports analytics use)*"
      ],
      "metadata": {
        "id": "PDVKwRhhGLLq"
      }
    },
    {
      "cell_type": "code",
      "source": [
        "from pyspark.ml.regression import LinearRegression, RandomForestRegressor, GBTRegressor\n",
        "from pyspark.ml.evaluation import RegressionEvaluator\n",
        "\n",
        "# Initialize models\n",
        "models = {\n",
        "    \"Linear Regression\": LinearRegression(featuresCol=\"features\", labelCol=\"Actual_Score\"),\n",
        "    \"Random Forest\": RandomForestRegressor(featuresCol=\"features\", labelCol=\"Actual_Score\"),\n",
        "    \"Gradient Boosted Trees\": GBTRegressor(featuresCol=\"features\", labelCol=\"Actual_Score\")\n",
        "}\n",
        "\n",
        "# Initialize evaluators\n",
        "evaluator_r2 = RegressionEvaluator(labelCol=\"Actual_Score\", predictionCol=\"prediction\", metricName=\"r2\")\n",
        "evaluator_mae = RegressionEvaluator(labelCol=\"Actual_Score\", predictionCol=\"prediction\", metricName=\"mae\")\n",
        "evaluator_rmse = RegressionEvaluator(labelCol=\"Actual_Score\", predictionCol=\"prediction\", metricName=\"rmse\")\n",
        "\n",
        "# Train and evaluate\n",
        "for name, model in models.items():\n",
        "    print(f\"\\nTraining: {name}\")\n",
        "    model_fit = model.fit(train_data)\n",
        "    predictions = model_fit.transform(test_data)\n",
        "\n",
        "    r2 = evaluator_r2.evaluate(predictions)\n",
        "    mae = evaluator_mae.evaluate(predictions)\n",
        "    rmse = evaluator_rmse.evaluate(predictions)\n",
        "\n",
        "    print(f\"R² Score: {r2:.4f}\")\n",
        "    print(f\"MAE: {mae:.4f}\")\n",
        "    print(f\"RMSE: {rmse:.4f}\")\n"
      ],
      "metadata": {
        "colab": {
          "base_uri": "https://localhost:8080/"
        },
        "id": "XnUs25_eSYGN",
        "outputId": "04326b47-2357-423d-be26-c22d05d9ffea"
      },
      "execution_count": null,
      "outputs": [
        {
          "output_type": "stream",
          "name": "stdout",
          "text": [
            "\n",
            "Training: Linear Regression\n",
            "R² Score: 0.4016\n",
            "MAE: 3.2856\n",
            "RMSE: 4.2438\n",
            "\n",
            "Training: Random Forest\n",
            "R² Score: 0.0925\n",
            "MAE: 4.2380\n",
            "RMSE: 5.2261\n",
            "\n",
            "Training: Gradient Boosted Trees\n",
            "R² Score: 0.2261\n",
            "MAE: 3.9216\n",
            "RMSE: 4.8261\n"
          ]
        }
      ]
    },
    {
      "cell_type": "markdown",
      "source": [
        "Best Overall: Linear Regression\n",
        "Has the highest R², meaning it explains the most variance in the target\n",
        "\n",
        "Also has the lowest MAE and lowest RMSE, meaning better accuracy and fewer big errors"
      ],
      "metadata": {
        "id": "rSrjnEmmY01m"
      }
    },
    {
      "cell_type": "markdown",
      "source": [
        "Hyperparamter Tuning"
      ],
      "metadata": {
        "id": "xDDsVe_ZU8YA"
      }
    },
    {
      "cell_type": "code",
      "source": [
        "from pyspark.ml.regression import LinearRegression\n",
        "from pyspark.ml.tuning import TrainValidationSplit, ParamGridBuilder\n",
        "from pyspark.ml.evaluation import RegressionEvaluator"
      ],
      "metadata": {
        "id": "2ItEsA1SVLUB"
      },
      "execution_count": null,
      "outputs": []
    },
    {
      "cell_type": "code",
      "source": [
        "# Define model\n",
        "lr = LinearRegression(featuresCol=\"features\", labelCol=\"Actual_Score\")\n",
        "\n",
        "# Param grid for tuning\n",
        "param_grid = ParamGridBuilder()\\\n",
        "    .addGrid(lr.regParam, [0.0, 0.01, 0.1])\\\n",
        "    .addGrid(lr.elasticNetParam, [0.0, 0.5, 1.0])\\\n",
        "    .build()\n",
        "\n",
        "# Evaluator\n",
        "evaluator_r2 = RegressionEvaluator(labelCol=\"Actual_Score\", predictionCol=\"prediction\", metricName=\"r2\")\n",
        "\n",
        "# Train-validation split (faster than k-fold CV)\n",
        "tvs = TrainValidationSplit(\n",
        "    estimator=lr,\n",
        "    estimatorParamMaps=param_grid,\n",
        "    evaluator=evaluator_r2,\n",
        "    trainRatio=0.8,\n",
        "    parallelism=2\n",
        ")\n",
        "\n",
        "# Train best model\n",
        "tuned_model = tvs.fit(train_data)\n",
        "predictions = tuned_model.transform(test_data)\n"
      ],
      "metadata": {
        "id": "J3MCllmpZFYL"
      },
      "execution_count": null,
      "outputs": []
    },
    {
      "cell_type": "code",
      "source": [
        "evaluator_mae = RegressionEvaluator(labelCol=\"Actual_Score\", predictionCol=\"prediction\", metricName=\"mae\")\n",
        "evaluator_rmse = RegressionEvaluator(labelCol=\"Actual_Score\", predictionCol=\"prediction\", metricName=\"rmse\")\n",
        "\n",
        "r2 = evaluator_r2.evaluate(predictions)\n",
        "mae = evaluator_mae.evaluate(predictions)\n",
        "rmse = evaluator_rmse.evaluate(predictions)\n",
        "\n",
        "print(f\"Tuned Linear Regression Results:\")\n",
        "print(f\"R² Score: {r2:.4f}\")\n",
        "print(f\"MAE: {mae:.4f}\")\n",
        "print(f\"RMSE: {rmse:.4f}\")\n"
      ],
      "metadata": {
        "colab": {
          "base_uri": "https://localhost:8080/"
        },
        "id": "3l_1ma3aZMVo",
        "outputId": "05df7799-d9f0-436e-e2f5-73ad6fbf581b"
      },
      "execution_count": null,
      "outputs": [
        {
          "output_type": "stream",
          "name": "stdout",
          "text": [
            "Tuned Linear Regression Results:\n",
            "R² Score: 0.4180\n",
            "MAE: 3.2567\n",
            "RMSE: 4.1852\n"
          ]
        }
      ]
    },
    {
      "cell_type": "code",
      "source": [
        "# Convert predictions to pandas for visualization\n",
        "pred_df = predictions.select(\"prediction\", \"Actual_Score\").toPandas()\n",
        "\n",
        "import matplotlib.pyplot as plt\n",
        "\n",
        "plt.figure(figsize=(8, 6))\n",
        "plt.scatter(pred_df[\"Actual_Score\"], pred_df[\"prediction\"], alpha=0.6)\n",
        "plt.plot([pred_df[\"Actual_Score\"].min(), pred_df[\"Actual_Score\"].max()],\n",
        "         [pred_df[\"Actual_Score\"].min(), pred_df[\"Actual_Score\"].max()], color='red', linestyle='--')\n",
        "plt.xlabel(\"Actual Score\")\n",
        "plt.ylabel(\"Predicted Score\")\n",
        "plt.title(\"Actual vs Predicted Points\")\n",
        "plt.grid(True)\n",
        "plt.tight_layout()\n",
        "plt.show()\n"
      ],
      "metadata": {
        "colab": {
          "base_uri": "https://localhost:8080/",
          "height": 607
        },
        "id": "zcMtEGBCZSc4",
        "outputId": "21618b72-3ea8-4452-b2b3-4809204cbd1a"
      },
      "execution_count": null,
      "outputs": [
        {
          "output_type": "display_data",
          "data": {
            "text/plain": [
              "<Figure size 800x600 with 1 Axes>"
            ],
            "image/png": "[encoded data removed]"
          },
          "metadata": {}
        }
      ]
    },
    {
      "cell_type": "code",
      "source": [
        "best_lr_model = tuned_model.bestModel\n",
        "print(f\"Intercept: {best_lr_model.intercept}\")\n",
        "print(\"Coefficients:\")\n",
        "for coef, name in zip(best_lr_model.coefficients, best_lr_model.summary.featuresCol):\n",
        "    print(f\"{name}: {coef}\")"
      ],
      "metadata": {
        "colab": {
          "base_uri": "https://localhost:8080/"
        },
        "id": "Kw8z6o-bZU3F",
        "outputId": "aace08de-d5cf-4234-b0e3-37868427a101"
      },
      "execution_count": null,
      "outputs": [
        {
          "output_type": "stream",
          "name": "stdout",
          "text": [
            "Intercept: 6.535641696290342\n",
            "Coefficients:\n",
            "f: 0.0\n",
            "e: -2.891793183430972\n",
            "a: 5.178140129250916\n",
            "t: 11.533668616510354\n",
            "u: 1.6513118802017825\n",
            "r: 7.16832306819382\n",
            "e: -0.0011762256955114734\n",
            "s: 2.1196403551151373\n"
          ]
        }
      ]
    },
    {
      "cell_type": "markdown",
      "source": [
        "Prediction in the testing Dataset"
      ],
      "metadata": {
        "id": "-_nUWu3bZhrP"
      }
    },
    {
      "cell_type": "code",
      "source": [
        "predictions = tuned_model.transform(test_data)"
      ],
      "metadata": {
        "id": "69w0je7nZkkB"
      },
      "execution_count": null,
      "outputs": []
    },
    {
      "cell_type": "markdown",
      "source": [
        "Evaluate the Testing Perfomence"
      ],
      "metadata": {
        "id": "UQ0Pad_dZoS5"
      }
    },
    {
      "cell_type": "code",
      "source": [
        "# Evaluation\n",
        "from pyspark.ml.evaluation import RegressionEvaluator\n",
        "\n",
        "evaluator_r2 = RegressionEvaluator(labelCol=\"Actual_Score\", predictionCol=\"prediction\", metricName=\"r2\")\n",
        "evaluator_mae = RegressionEvaluator(labelCol=\"Actual_Score\", predictionCol=\"prediction\", metricName=\"mae\")\n",
        "evaluator_rmse = RegressionEvaluator(labelCol=\"Actual_Score\", predictionCol=\"prediction\", metricName=\"rmse\")\n",
        "\n",
        "r2 = evaluator_r2.evaluate(predictions)\n",
        "mae = evaluator_mae.evaluate(predictions)\n",
        "rmse = evaluator_rmse.evaluate(predictions)\n",
        "\n",
        "print(f\"Final Evaluation on Test Set\")\n",
        "print(f\"R² Score: {r2:.4f}\")\n",
        "print(f\"MAE: {mae:.4f}\")\n",
        "print(f\"RMSE: {rmse:.4f}\")\n"
      ],
      "metadata": {
        "colab": {
          "base_uri": "https://localhost:8080/"
        },
        "id": "eVZVPZdpZl2w",
        "outputId": "19c12ddc-03e3-4596-d0a4-6935d076ebed"
      },
      "execution_count": null,
      "outputs": [
        {
          "output_type": "stream",
          "name": "stdout",
          "text": [
            "Final Evaluation on Test Set\n",
            "R² Score: 0.4180\n",
            "MAE: 3.2567\n",
            "RMSE: 4.1852\n"
          ]
        }
      ]
    },
    {
      "cell_type": "code",
      "source": [
        "# Plot predictions\n",
        "pred_df = predictions.select(\"prediction\", \"Actual_Score\").toPandas()\n",
        "\n",
        "import matplotlib.pyplot as plt\n",
        "\n",
        "plt.figure(figsize=(8, 6))\n",
        "plt.scatter(pred_df[\"Actual_Score\"], pred_df[\"prediction\"], alpha=0.5)\n",
        "plt.plot([pred_df[\"Actual_Score\"].min(), pred_df[\"Actual_Score\"].max()],\n",
        "         [pred_df[\"Actual_Score\"].min(), pred_df[\"Actual_Score\"].max()], color='red', linestyle='--')\n",
        "plt.xlabel(\"Actual Score\")\n",
        "plt.ylabel(\"Predicted Score\")\n",
        "plt.title(\"Actual vs Predicted Points\")\n",
        "plt.grid(True)\n",
        "plt.tight_layout()\n",
        "plt.show()\n"
      ],
      "metadata": {
        "colab": {
          "base_uri": "https://localhost:8080/",
          "height": 696
        },
        "id": "QjsdFmcxZx_F",
        "outputId": "bc690fec-be11-4cbc-c4ef-6602498e9174"
      },
      "execution_count": null,
      "outputs": [
        {
          "output_type": "stream",
          "name": "stderr",
          "text": [
            "<ipython-input-91-721d5e0077b2>:14: UserWarning: Glyph 128201 (\\N{CHART WITH DOWNWARDS TREND}) missing from font(s) DejaVu Sans.\n",
            "  plt.tight_layout()\n",
            "/usr/local/lib/python3.11/dist-packages/IPython/core/pylabtools.py:151: UserWarning: Glyph 128201 (\\N{CHART WITH DOWNWARDS TREND}) missing from font(s) DejaVu Sans.\n",
            "  fig.canvas.print_figure(bytes_io, **kw)\n"
          ]
        },
        {
          "output_type": "display_data",
          "data": {
            "text/plain": [
              "<Figure size 800x600 with 1 Axes>"
            ],
            "image/png": "[encoded data removed]"
          },
          "metadata": {}
        }
      ]
    },
    {
      "cell_type": "code",
      "source": [
        "# Select and show actual vs predicted values\n",
        "predictions.select(\"Actual_Score\", \"prediction\").show(20, truncate=False)"
      ],
      "metadata": {
        "colab": {
          "base_uri": "https://localhost:8080/"
        },
        "id": "RLKejaFVZ4sJ",
        "outputId": "4dda517b-90c9-4cab-924a-86e3f15aeeea"
      },
      "execution_count": null,
      "outputs": [
        {
          "output_type": "stream",
          "name": "stdout",
          "text": [
            "+------------+------------------+\n",
            "|Actual_Score|prediction        |\n",
            "+------------+------------------+\n",
            "|4           |4.829449330512013 |\n",
            "|4           |4.38748662021723  |\n",
            "|20          |4.753721804949801 |\n",
            "|9           |8.227133218191303 |\n",
            "|11          |7.451209832872119 |\n",
            "|10          |5.954291712157687 |\n",
            "|8           |5.556763951703987 |\n",
            "|2           |2.9270710959295942|\n",
            "|2           |4.661949914401156 |\n",
            "|2           |4.939736288518774 |\n",
            "|2           |4.161406652986731 |\n",
            "|4           |5.453895161571916 |\n",
            "|4           |2.0389151247690647|\n",
            "|2           |5.578290973409462 |\n",
            "|6           |5.5360902044278815|\n",
            "|8           |7.682016314213861 |\n",
            "|16          |14.111942725416618|\n",
            "|20          |18.176062468534337|\n",
            "|8           |8.801940824041322 |\n",
            "|6           |9.40644291210193  |\n",
            "+------------+------------------+\n",
            "only showing top 20 rows\n",
            "\n"
          ]
        }
      ]
    }
  ]
}